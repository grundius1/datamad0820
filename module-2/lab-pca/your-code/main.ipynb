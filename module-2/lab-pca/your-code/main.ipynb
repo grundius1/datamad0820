{
 "cells": [
  {
   "cell_type": "markdown",
   "metadata": {},
   "source": [
    "# Before your start:\n",
    "- Read the README.md file\n",
    "- Comment as much as you can and use the resources (README.md file)\n",
    "- Happy learning!"
   ]
  },
  {
   "cell_type": "code",
   "execution_count": 1,
   "metadata": {},
   "outputs": [],
   "source": [
    "# Run this code:\n",
    "\n",
    "%matplotlib inline\n",
    "\n",
    "import matplotlib.pyplot as plt"
   ]
  },
  {
   "cell_type": "code",
   "execution_count": 2,
   "metadata": {},
   "outputs": [],
   "source": [
    "# Import numpy and pandas:\n",
    "\n",
    "import numpy as np\n",
    "import pandas as pd"
   ]
  },
  {
   "cell_type": "markdown",
   "metadata": {},
   "source": [
    "# Challenge 1 - Reading and Standardizing the Data\n",
    "\n",
    "In this challenge we will work with image data and reduce the dimensions of the data to create a 2 dimensional plot. While we have not worked much with image data before, it can be represented as a numpy array where each pixel is assigned a numeric value. In this lesson, we will look at a dataset of cats and a dataset of dogs and see whether reducing them to two dimensions allows us to see if the data is separable. We will start by loading and processing the data. Run the cell below to load the two csv files and convert them into numpy arrays."
   ]
  },
  {
   "cell_type": "code",
   "execution_count": 3,
   "metadata": {},
   "outputs": [],
   "source": [
    "# Run this code\n",
    "\n",
    "cats = np.array(pd.read_csv(\"https://raw.githubusercontent.com/bioramble/pca/master/cat.csv\", header=None))\n",
    "dogs = np.array(pd.read_csv(\"https://raw.githubusercontent.com/bioramble/pca/master/dog.csv\", header=None))"
   ]
  },
  {
   "cell_type": "markdown",
   "metadata": {},
   "source": [
    "Next, we'll examine the shape of both the cats and the dogs arrays. Print out both shapes below."
   ]
  },
  {
   "cell_type": "code",
   "execution_count": 4,
   "metadata": {},
   "outputs": [
    {
     "name": "stdout",
     "output_type": "stream",
     "text": [
      "(4096, 80)\n",
      "(4096, 80)\n"
     ]
    }
   ],
   "source": [
    "# Your code here:\n",
    "print(cats.shape)\n",
    "print(dogs.shape)\n"
   ]
  },
  {
   "cell_type": "markdown",
   "metadata": {},
   "source": [
    "What this means is that both arrays contain 80 images each (the number of columns). Each image is comprised of 64x64 pixels (so a total of 4096 pixels per image). The images have been flattened such that all 4096 are in a single row.\n",
    "\n",
    "Print out column 0 of the cats array to see what the pixels values look like."
   ]
  },
  {
   "cell_type": "code",
   "execution_count": 5,
   "metadata": {},
   "outputs": [
    {
     "data": {
      "text/plain": [
       "array([64, 64, 64, ..., 64, 64, 61])"
      ]
     },
     "execution_count": 5,
     "metadata": {},
     "output_type": "execute_result"
    }
   ],
   "source": [
    "# Your code here:\n",
    "cats[:,0]"
   ]
  },
  {
   "cell_type": "markdown",
   "metadata": {},
   "source": [
    "Using `matplotlib` we can plot a single cat or a single dog. We do this by reshaping the vector back to a 64x64 image and then using the `imshow` function.\n",
    "\n",
    "Run the code below to look at the first dog and the first cat."
   ]
  },
  {
   "cell_type": "code",
   "execution_count": 6,
   "metadata": {},
   "outputs": [
    {
     "data": {
      "text/plain": [
       "<matplotlib.image.AxesImage at 0x7fcb83d5f910>"
      ]
     },
     "execution_count": 6,
     "metadata": {},
     "output_type": "execute_result"
    },
    {
     "data": {
      "image/png": "[encoded data removed]",
      "text/plain": [
       "<Figure size 432x288 with 1 Axes>"
      ]
     },
     "metadata": {
      "needs_background": "light"
     },
     "output_type": "display_data"
    }
   ],
   "source": [
    "# Run this code:\n",
    "\n",
    "fig, ax = plt.subplots()\n",
    "ax.imshow(cats[:,0].reshape(64, 64).T, cmap=plt.cm.bone, interpolation='nearest') "
   ]
  },
  {
   "cell_type": "code",
   "execution_count": 7,
   "metadata": {},
   "outputs": [
    {
     "data": {
      "text/plain": [
       "<matplotlib.image.AxesImage at 0x7fcb83c6ac10>"
      ]
     },
     "execution_count": 7,
     "metadata": {},
     "output_type": "execute_result"
    },
    {
     "data": {
      "image/png": "[encoded data removed]",
      "text/plain": [
       "<Figure size 432x288 with 1 Axes>"
      ]
     },
     "metadata": {
      "needs_background": "light"
     },
     "output_type": "display_data"
    }
   ],
   "source": [
    "# Run this code:\n",
    "\n",
    "fig, ax = plt.subplots()\n",
    "ax.imshow(dogs[:,0].reshape(64, 64).T, cmap=plt.cm.bone, interpolation='nearest') "
   ]
  },
  {
   "cell_type": "markdown",
   "metadata": {},
   "source": [
    "Next, we would like to create a standardization function. This function will find the mean and standard deviation of each image. We subtract the mean from each pixel and divide each pixel by the standard deviation. Write the function below.\n",
    "\n",
    "Hint: To find the mean and standard deviation of each image, use `numpy`'s version of mean and stadnard deviation and use `axis=0`."
   ]
  },
  {
   "cell_type": "code",
   "execution_count": 8,
   "metadata": {},
   "outputs": [],
   "source": [
    "def standardize(x):\n",
    "    #This function takes as input a numpy array and returns a stadardized numpy array of the same dimensions.\n",
    "    #Sample input: np.array([[1,2,3],[4,5,6]])\n",
    "    #Sample output: np.array([[-1,-1,-1],[1,1,1]])\n",
    "    \n",
    "    # Your code here:\n",
    "\n",
    "    final = (x - np.mean(x, axis=0)) // np.std(x, axis=0)\n",
    "    return final"
   ]
  },
  {
   "cell_type": "markdown",
   "metadata": {},
   "source": [
    "Now, use the `np.concatenate` function to combine the cats and dogs arrays. Use `axis=1` to combine the two correctly. Make sure to put dogs first."
   ]
  },
  {
   "cell_type": "code",
   "execution_count": 9,
   "metadata": {},
   "outputs": [],
   "source": [
    "# Your code here:\n",
    "\n",
    "animals = np.concatenate((dogs,cats),axis=1)"
   ]
  },
  {
   "cell_type": "markdown",
   "metadata": {},
   "source": [
    "Standardize the concatenated array below."
   ]
  },
  {
   "cell_type": "code",
   "execution_count": 10,
   "metadata": {},
   "outputs": [
    {
     "data": {
      "text/plain": [
       "array([[ 2., -1.,  0., ..., -2.,  1., -1.],\n",
       "       [ 2., -1.,  1., ..., -3.,  1., -1.],\n",
       "       [ 2., -1.,  0., ..., -2.,  1., -1.],\n",
       "       ...,\n",
       "       [ 0., -1.,  0., ..., -1.,  0.,  0.],\n",
       "       [ 0., -1.,  0., ..., -1.,  0., -1.],\n",
       "       [ 0., -1.,  0., ..., -1.,  0.,  0.]])"
      ]
     },
     "execution_count": 10,
     "metadata": {},
     "output_type": "execute_result"
    }
   ],
   "source": [
    "# Your code here:\n",
    "\n",
    "sanimals = standardize(animals)\n",
    "sanimals"
   ]
  },
  {
   "cell_type": "markdown",
   "metadata": {},
   "source": [
    "# Challenge 2 - Using PCA\n",
    "\n",
    "Now that we have created a standardized matrix of cats and dogs, we'll find the two most important components in the data.\n",
    "\n",
    "Load the `PCA` function from `statsmodels` (read about this function [here](https://www.statsmodels.org/dev/generated/statsmodels.multivariate.pca.PCA.html)) and apply the function to our standarized data. Create a PCA model with two components."
   ]
  },
  {
   "cell_type": "code",
   "execution_count": 11,
   "metadata": {},
   "outputs": [],
   "source": [
    "# Your code here:\n",
    "from statsmodels.multivariate.pca import PCA\n",
    "pca = PCA(sanimals,ncomp=2)\n"
   ]
  },
  {
   "cell_type": "code",
   "execution_count": 12,
   "metadata": {},
   "outputs": [
    {
     "name": "stdout",
     "output_type": "stream",
     "text": [
      "(4096, 2)\n",
      "[[-0.02967873  0.03552548]\n",
      " [-0.03012904  0.03649384]\n",
      " [-0.02942435  0.03488543]\n",
      " ...\n",
      " [-0.00410102  0.01147962]\n",
      " [-0.00488327  0.01184227]\n",
      " [-0.00470622  0.01140412]]\n",
      "[[-0.02967873  0.03552548]\n",
      " [-0.03012904  0.03649384]\n",
      " [-0.02942435  0.03488543]\n",
      " ...\n",
      " [-0.00410102  0.01147962]\n",
      " [-0.00488327  0.01184227]\n",
      " [-0.00470622  0.01140412]]\n",
      "[[-0.12281229  0.05417213]\n",
      " [-0.09947168 -0.06756602]\n",
      " [ 0.03696778 -0.06066935]\n",
      " [-0.01284872 -0.12475454]\n",
      " [-0.09535986  0.01484782]\n",
      " [ 0.02404813 -0.16847391]\n",
      " [-0.06949803 -0.05598693]\n",
      " [-0.05005909 -0.14733673]\n",
      " [-0.03745277 -0.14319146]\n",
      " [-0.11579181  0.01265865]\n",
      " [-0.00088849 -0.13381454]\n",
      " [-0.06521801 -0.06538724]\n",
      " [-0.0259247  -0.05770384]\n",
      " [ 0.00434892 -0.06083786]\n",
      " [-0.05939153 -0.11805723]\n",
      " [-0.05778834 -0.12283381]\n",
      " [-0.04393555 -0.02682112]\n",
      " [-0.11903537 -0.07475319]\n",
      " [-0.05379165 -0.10057854]\n",
      " [-0.04916835 -0.16153048]\n",
      " [ 0.01295893 -0.13614154]\n",
      " [-0.01161156 -0.14355488]\n",
      " [-0.02894011 -0.05155545]\n",
      " [-0.04597963 -0.15255094]\n",
      " [-0.08116746 -0.11140726]\n",
      " [-0.00966012 -0.15516231]\n",
      " [ 0.00269495 -0.09785185]\n",
      " [-0.00214321 -0.08544862]\n",
      " [-0.0339807  -0.17856921]\n",
      " [-0.0304498  -0.09213502]\n",
      " [-0.02159508 -0.114246  ]\n",
      " [-0.02844193 -0.10118581]\n",
      " [-0.09345574 -0.10734528]\n",
      " [-0.04841297 -0.13195967]\n",
      " [ 0.01961852 -0.14941207]\n",
      " [-0.04939767 -0.05275858]\n",
      " [ 0.04296435 -0.13928273]\n",
      " [-0.00049634 -0.11546687]\n",
      " [ 0.01343088 -0.1564454 ]\n",
      " [-0.08677398 -0.06789284]\n",
      " [-0.05529059 -0.1501736 ]\n",
      " [-0.03382211  0.0596377 ]\n",
      " [ 0.02516091 -0.13285796]\n",
      " [-0.04376084 -0.0999992 ]\n",
      " [ 0.01630592 -0.06196206]\n",
      " [-0.05830796  0.08056116]\n",
      " [-0.07873637  0.0135592 ]\n",
      " [-0.01859005 -0.03062986]\n",
      " [-0.04123867  0.04516629]\n",
      " [ 0.04818057 -0.12369347]\n",
      " [-0.08236834  0.03957506]\n",
      " [-0.10807181  0.10335489]\n",
      " [-0.01768299  0.06010341]\n",
      " [ 0.05793751 -0.15600324]\n",
      " [ 0.06202345 -0.02108122]\n",
      " [ 0.04755147 -0.02881569]\n",
      " [-0.0855603   0.0291381 ]\n",
      " [-0.04438959  0.0423938 ]\n",
      " [ 0.04942499 -0.10270672]\n",
      " [ 0.00246565 -0.11062926]\n",
      " [-0.02889681 -0.14562811]\n",
      " [-0.08913225  0.07673364]\n",
      " [-0.10206435  0.02207241]\n",
      " [ 0.06977404  0.00927886]\n",
      " [ 0.02424208 -0.05028657]\n",
      " [-0.09265712 -0.00955309]\n",
      " [-0.0105804   0.08311827]\n",
      " [ 0.09635358 -0.04666562]\n",
      " [ 0.0057492  -0.01546179]\n",
      " [-0.06627334 -0.10551357]\n",
      " [ 0.02784059 -0.03866543]\n",
      " [-0.00198214 -0.11370928]\n",
      " [-0.07799348 -0.09078588]\n",
      " [ 0.05744995 -0.09096764]\n",
      " [-0.02935927  0.09097725]\n",
      " [-0.12150912  0.02296537]\n",
      " [-0.0980168  -0.0239944 ]\n",
      " [ 0.02227949 -0.12930811]\n",
      " [ 0.00708829 -0.12348971]\n",
      " [-0.1194626   0.00946704]\n",
      " [ 0.02643042  0.04907895]\n",
      " [ 0.14721518  0.00524703]\n",
      " [-0.14291758  0.01451352]\n",
      " [-0.12595574 -0.00699284]\n",
      " [ 0.10225525  0.0430857 ]\n",
      " [ 0.06188528  0.11818068]\n",
      " [ 0.13070037 -0.01509333]\n",
      " [ 0.01863461  0.06403527]\n",
      " [ 0.12789377  0.02688848]\n",
      " [ 0.0619307   0.0593898 ]\n",
      " [ 0.00051708  0.01545155]\n",
      " [-0.01170894  0.01210684]\n",
      " [ 0.15234826  0.03565171]\n",
      " [ 0.09219132  0.03937562]\n",
      " [-0.07102484  0.05848095]\n",
      " [ 0.10837108  0.06171873]\n",
      " [-0.08031944  0.04293844]\n",
      " [ 0.10140633  0.03808465]\n",
      " [-0.12654191  0.00094984]\n",
      " [ 0.15148618  0.01795182]\n",
      " [-0.01552363  0.04753297]\n",
      " [ 0.1047776  -0.0029699 ]\n",
      " [ 0.1032082  -0.04602514]\n",
      " [ 0.10035028 -0.12197917]\n",
      " [-0.15433043  0.02312285]\n",
      " [ 0.01793861 -0.07942173]\n",
      " [ 0.09839664  0.06259972]\n",
      " [ 0.09501438 -0.06877624]\n",
      " [-0.06032207  0.01565135]\n",
      " [ 0.06654441  0.03394292]\n",
      " [ 0.0090664   0.06118781]\n",
      " [-0.03775826  0.04878208]\n",
      " [ 0.05843015  0.10739844]\n",
      " [-0.15660618  0.0459044 ]\n",
      " [ 0.15252158 -0.0111958 ]\n",
      " [ 0.01576225 -0.03993773]\n",
      " [-0.15521376 -0.01013139]\n",
      " [ 0.12813157  0.02307   ]\n",
      " [ 0.06199926 -0.06923445]\n",
      " [ 0.04244742  0.04372917]\n",
      " [ 0.0270052   0.0635761 ]\n",
      " [ 0.08553307  0.05133265]\n",
      " [ 0.15404856 -0.0631655 ]\n",
      " [ 0.0876954  -0.08264397]\n",
      " [ 0.14840979 -0.08059609]\n",
      " [-0.09627252  0.05607948]\n",
      " [-0.10292674 -0.0103599 ]\n",
      " [-0.08582492  0.03762831]\n",
      " [ 0.14453905 -0.02969449]\n",
      " [ 0.00784722  0.02798613]\n",
      " [ 0.07407449  0.04979638]\n",
      " [ 0.04496883 -0.04389163]\n",
      " [ 0.13875934  0.04810356]\n",
      " [ 0.10535338  0.04308132]\n",
      " [-0.05411667  0.07525845]\n",
      " [ 0.11327284  0.05858232]\n",
      " [ 0.10340699  0.08349252]\n",
      " [ 0.05609173 -0.0375399 ]\n",
      " [-0.09180157  0.1093066 ]\n",
      " [ 0.06105245 -0.12984553]\n",
      " [ 0.00802422 -0.00479912]\n",
      " [ 0.06338436  0.05009763]\n",
      " [ 0.12230123  0.03629443]\n",
      " [ 0.11761397 -0.03847272]\n",
      " [-0.0695023   0.01430744]\n",
      " [ 0.02429449  0.06718057]\n",
      " [-0.15284055  0.0343124 ]\n",
      " [ 0.01618291  0.00413604]\n",
      " [-0.06577373  0.02877415]\n",
      " [-0.09407293 -0.01225001]\n",
      " [-0.04886402  0.01783148]\n",
      " [ 0.10106478 -0.0451053 ]\n",
      " [ 0.03267048  0.05798773]\n",
      " [-0.00875177 -0.0089564 ]\n",
      " [-0.03438325 -0.00355965]\n",
      " [ 0.0761337  -0.07214987]\n",
      " [ 0.09220244 -0.08948   ]\n",
      " [ 0.13576974 -0.05344066]\n",
      " [-0.05794127 -0.01440971]\n",
      " [ 0.03436142  0.04712265]]\n",
      "[[-40.21902599 -32.57535802  12.10634741  -4.20774598 -31.22880223\n",
      "    7.87536966 -22.75947311 -16.39353761 -12.2651713  -37.91993419\n",
      "   -0.29096683 -21.35783716  -8.48991766   1.42419933 -19.4497607\n",
      "  -18.9247418  -14.38817893 -38.98214613 -17.61588869 -16.1018342\n",
      "    4.24383933  -3.80259666  -9.47741462 -15.05757959 -26.58102077\n",
      "   -3.16353244   0.8825508   -0.70186535 -11.1281254   -9.97181337\n",
      "   -7.07203883  -9.3142683  -30.60523499 -15.85445978   6.42474478\n",
      "  -16.17693299  14.07012485  -0.16254267   4.39839396 -28.41706639\n",
      "  -18.10676757 -11.0761899    8.23978994 -14.33096388   5.33992267\n",
      "  -19.09490899 -25.78488092  -6.08794019 -13.50499404  15.77835129\n",
      "  -26.97429092 -35.3917607   -5.79089155  18.97359014  20.31167078\n",
      "   15.5723324  -28.01960713 -14.53686861  16.18587866   0.8074618\n",
      "   -9.46323461 -29.18936234 -33.42441466  22.8498626    7.93888543\n",
      "  -30.34369858  -3.46490943  31.55422951   1.88276986 -21.70344097\n",
      "    9.11733977  -0.64911871 -25.54159637  18.81392285  -9.61468206\n",
      "  -39.79226105 -32.09890789   7.29617005   2.32130074 -39.12205795\n",
      "    8.65553206  48.21057626 -46.8031807  -41.24845614  33.48693198\n",
      "   20.26642276  42.80224493   6.10253088  41.88312721  20.28129596\n",
      "    0.16933577  -3.8344884   49.89157478  30.19115827 -23.25947997\n",
      "   35.48976561 -26.30330855  33.20892371 -41.4404158   49.60925961\n",
      "   -5.08373496  34.31295822  33.79900728  32.86308271 -50.5407053\n",
      "    5.87460243  32.22329831  31.11566174 -19.75449615  21.7922102\n",
      "    2.9690977  -12.36521527  19.13492343 -51.28597696  49.9483344\n",
      "    5.16188126 -50.82997912  41.96100295  20.30374916  13.90083781\n",
      "    8.84376472  28.01068975  50.448395    28.7188167   48.6017924\n",
      "  -31.5276842  -33.70683272 -28.10626324  47.33418763   2.56983831\n",
      "   24.25818961  14.72656129  45.44142458  34.50151869 -17.72232743\n",
      "   37.09501205  33.86410683  18.36912909 -30.06352116  19.99368397\n",
      "    2.62780184  20.75734753  40.05166211  38.51666279 -22.76087371\n",
      "    7.95604963 -50.05279225   5.29964071 -21.53982737 -30.80735333\n",
      "  -16.00217137  33.0970722   10.69904901  -2.8660637  -11.25995539\n",
      "   24.93254694  30.19480023  44.46238078 -18.97482326  11.25280605]\n",
      " [ 14.18475964 -17.69189783 -15.88603369 -32.66648997   3.88784492\n",
      "  -44.11423521 -14.65995823 -38.5795473  -37.49412604   3.31461808\n",
      "  -35.03881459 -17.1213934  -15.10952535 -15.93015746 -30.91282624\n",
      "  -32.1635549   -7.02300578 -19.5738302  -26.33609798 -42.29612611\n",
      "  -35.64813159 -37.58928604 -13.49959323 -39.9448677  -29.1715556\n",
      "  -40.62864457 -25.62212609 -22.37438659 -46.75765188 -24.12519555\n",
      "  -29.9148692  -26.49511076 -28.10794259 -34.55312428 -39.12296788\n",
      "  -13.81462831 -36.47063806 -30.23454938 -40.96461724 -17.77747497\n",
      "  -39.32237117  15.6158994  -34.78833798 -26.18440085 -16.22452265\n",
      "   21.09462542   3.55042424  -8.02030887  11.82661732 -32.38865337\n",
      "   10.36257543  27.06307361  15.73784291 -40.84883997  -5.52003613\n",
      "   -7.54527613   7.62969853  11.10065035 -26.89335418 -28.96783967\n",
      "  -38.13215241  20.09240375   5.7795757    2.42963437 -13.16734095\n",
      "   -2.50143911  21.76419463 -12.21921052  -4.04860872 -27.62831664\n",
      "  -10.12439236 -29.77433194 -23.77192937 -23.81952115  23.82203804\n",
      "    6.01339182  -6.28284021 -33.8588228  -32.33529814   2.47890663\n",
      "   12.85113164   1.37391491   3.8003089   -1.83104758  11.28182336\n",
      "   30.94514911  -3.95212932  16.76738438   7.04064389  15.55098724\n",
      "    4.04592812   3.17012755   9.33526101  10.31035349  15.31300917\n",
      "   16.16080815  11.2432627    9.97231622   0.24871161   4.70061414\n",
      "   12.44632164  -0.77765685 -12.05150446 -31.93976881   6.05462783\n",
      "  -20.79627009  16.39149116 -18.00879117   4.09824574   8.88781995\n",
      "   16.0217899   12.77339836  28.12186174  12.0198876   -2.93157661\n",
      "  -10.45753954  -2.65286466   6.04078982 -18.12876991  11.45031268\n",
      "   16.64715238  13.44125423 -16.5396399  -21.64000047 -21.10377206\n",
      "   14.68419301  -2.71270029   9.85282538  -7.77538529   7.32805815\n",
      "   13.03898696 -11.49285193  12.59572988  11.28067657  19.70613194\n",
      "   15.3395511   21.86219109  -9.82967758  28.62150718 -33.99954558\n",
      "   -1.25663146  13.11786793   9.50355451 -10.0739323    3.74634665\n",
      "   17.59096894   8.98456678   1.08300623   7.53439977  -3.2076173\n",
      "    4.66910287 -11.81064612  15.18386006  -2.34519917  -0.93208161\n",
      "  -18.89216237 -23.42998829 -13.99322949  -3.77312554  12.33888204]]\n",
      "[[ 1.43430278 -0.06184011 -1.41757357 ... -2.30438286 -0.0515872\n",
      "  -0.41178539]\n",
      " [ 1.47052206 -0.06467669 -1.43766541 ... -2.33817401 -0.04649863\n",
      "  -0.40460154]\n",
      " [ 1.41234149 -0.05834245 -1.40479846 ... -2.28398374 -0.05409662\n",
      "  -0.41704188]\n",
      " ...\n",
      " [-0.12356069 -0.53145904 -0.75059489 ... -0.8210454  -0.4621495\n",
      "  -0.42105391]\n",
      " [-0.08192961 -0.50950189 -0.76528283 ... -0.86116055 -0.44812986\n",
      "  -0.42557212]\n",
      " [-0.09709655 -0.5072168  -0.75650356 ... -0.84706588 -0.44990519\n",
      "  -0.42913626]]\n",
      "[0.         0.16364379 0.2682632 ]\n"
     ]
    }
   ],
   "source": [
    "print(pca.factors.shape)\n",
    "print(pca.factors)\n",
    "print(pca.scores)\n",
    "print(pca.loadings)\n",
    "print(pca.coeff)\n",
    "print(pca.projection)\n",
    "print(pca.rsquare)"
   ]
  },
  {
   "cell_type": "markdown",
   "metadata": {},
   "source": [
    "Use `numpy` to find to transpose the standardized pet array. This will help us compute the projection."
   ]
  },
  {
   "cell_type": "code",
   "execution_count": 13,
   "metadata": {},
   "outputs": [
    {
     "name": "stdout",
     "output_type": "stream",
     "text": [
      "(4096, 160)\n"
     ]
    },
    {
     "data": {
      "text/plain": [
       "(160, 4096)"
      ]
     },
     "execution_count": 13,
     "metadata": {},
     "output_type": "execute_result"
    }
   ],
   "source": [
    "# Your code here:\n",
    "print(sanimals.shape)\n",
    "tsanimals= np.transpose(sanimals)\n",
    "tsanimals.shape\n"
   ]
  },
  {
   "cell_type": "markdown",
   "metadata": {},
   "source": [
    "Find the dot product of the transposed standardized pet matrix and the `factors` of the `PCA` model found above. This will be the projection onto 2 dimensions. This means that each cat and dog image will now only have two columns instead of 4096."
   ]
  },
  {
   "cell_type": "code",
   "execution_count": 14,
   "metadata": {},
   "outputs": [
    {
     "name": "stdout",
     "output_type": "stream",
     "text": [
      "[[-45.74096264  16.13227931]\n",
      " [-37.51477682 -20.37452968]\n",
      " [ 11.67457989 -15.31946534]\n",
      " [ -4.59236426 -35.6524424 ]\n",
      " [-32.79767848   4.08316294]\n",
      " [  8.75552166 -49.04444599]\n",
      " [-23.19009863 -14.93733513]\n",
      " [-15.94751842 -37.52991307]\n",
      " [-13.24606762 -40.49268589]\n",
      " [-38.96845269   3.4062701 ]\n",
      " [ -0.28748447 -34.61946096]\n",
      " [-22.47325309 -18.01556048]\n",
      " [ -9.26922826 -16.49646615]\n",
      " [  1.41513009 -15.82871483]\n",
      " [-20.19224225 -32.09290262]\n",
      " [-20.70196407 -35.18403394]\n",
      " [-15.43348293  -7.53322852]\n",
      " [-42.70618219 -21.44375417]\n",
      " [-17.76610171 -26.56066938]\n",
      " [-17.24696248 -45.30413683]\n",
      " [  4.72315372 -39.67435912]\n",
      " [ -4.08975994 -40.42794174]\n",
      " [ -9.54345581 -13.59366205]\n",
      " [-16.51216931 -43.80361494]\n",
      " [-29.00531754 -31.83211963]\n",
      " [ -2.96470271 -38.07511228]\n",
      " [  0.86199052 -25.02522209]\n",
      " [ -0.71513954 -22.79754733]\n",
      " [-12.07903305 -50.75313245]\n",
      " [-10.35609972 -25.05491444]\n",
      " [ -7.57696253 -32.05070679]\n",
      " [-10.00566812 -28.46184761]\n",
      " [-33.0260318  -30.33120988]\n",
      " [-17.79934298 -38.79179224]\n",
      " [  6.51747708 -39.68765381]\n",
      " [-16.31512108 -13.9326369 ]\n",
      " [ 15.35776003 -39.80826847]\n",
      " [ -0.16546668 -30.77844501]\n",
      " [  4.62827408 -43.10561493]\n",
      " [-30.41995184 -19.03046307]\n",
      " [-18.19406897 -39.51196316]\n",
      " [-11.3589429   16.01454213]\n",
      " [  8.35638046 -35.28058235]\n",
      " [-15.76616479 -28.80668616]\n",
      " [  5.28089447 -16.04517466]\n",
      " [-18.86781429  20.84374821]\n",
      " [-23.88764513   3.28918619]\n",
      " [ -6.14503757  -8.0955295 ]\n",
      " [-14.37692392  12.5901853 ]\n",
      " [ 16.39246099 -33.64925315]\n",
      " [-28.69017853  11.0217592 ]\n",
      " [-37.95182357  29.02068093]\n",
      " [ -5.87891522  15.97706386]\n",
      " [ 19.85856863 -42.75413803]\n",
      " [ 22.34267972  -6.07199677]\n",
      " [ 16.43313481  -7.9623615 ]\n",
      " [-29.4400674    8.01648781]\n",
      " [-15.01853128  11.46845782]\n",
      " [ 18.01342879 -29.92988707]\n",
      " [  0.8286663  -29.72855471]\n",
      " [-10.23994511 -41.26191135]\n",
      " [-30.1164933   20.73059137]\n",
      " [-36.09194618   6.24083136]\n",
      " [ 24.07527848   2.5599333 ]\n",
      " [  8.24357521 -13.6726958 ]\n",
      " [-32.14061202  -2.64957101]\n",
      " [ -3.38044393  21.23364004]\n",
      " [ 34.33501819 -13.29605642]\n",
      " [  2.02518551  -4.35485182]\n",
      " [-21.59802287 -27.49412019]\n",
      " [  9.66590476 -10.73354891]\n",
      " [ -0.70385031 -32.28480754]\n",
      " [-27.46423222 -25.56135408]\n",
      " [ 20.02154003 -25.34843478]\n",
      " [ -9.8738956   24.46428442]\n",
      " [-41.79731661   6.31639508]\n",
      " [-34.99491129  -6.84968587]\n",
      " [  8.10426095 -37.60887335]\n",
      " [  2.54804043 -35.49374093]\n",
      " [-43.90478059   2.7819562 ]\n",
      " [  7.5644862   11.23122267]\n",
      " [ 48.35014489   1.37789236]\n",
      " [-39.73822169   3.22665074]\n",
      " [-42.59524074  -1.89083228]\n",
      " [ 32.58125352  10.97669823]\n",
      " [ 19.3703336   29.57689518]\n",
      " [ 47.78424947  -4.41214086]\n",
      " [  6.05837249  16.64605429]\n",
      " [ 44.53862545   7.48703886]\n",
      " [ 22.09224616  16.93956041]\n",
      " [  0.17396602   4.1565585 ]\n",
      " [ -4.1002434    3.38983801]\n",
      " [ 52.02918861   9.73523201]\n",
      " [ 31.97789934  10.92052988]\n",
      " [-21.97470837  14.46717258]\n",
      " [ 34.83329761  15.86187539]\n",
      " [-26.6674152   11.39889889]\n",
      " [ 36.83469732  11.06110071]\n",
      " [-46.20094341   0.27728272]\n",
      " [ 53.16658758   5.03768077]\n",
      " [ -4.55053973  11.14091934]\n",
      " [ 34.78690652  -0.78839825]\n",
      " [ 36.0243042  -12.84496491]\n",
      " [ 37.26064336 -36.21377657]\n",
      " [-52.62384322   6.30418163]\n",
      " [  5.99802159 -21.23317762]\n",
      " [ 32.46134509  16.51258185]\n",
      " [ 32.20288818 -18.6380445 ]\n",
      " [-20.11863868   4.17379034]\n",
      " [ 22.7789822    9.29026889]\n",
      " [  3.07495372  16.59300818]\n",
      " [-11.71021713  12.09677834]\n",
      " [ 20.81832875  30.59589786]\n",
      " [-42.30058146   9.91398165]\n",
      " [ 55.50740153  -3.25785037]\n",
      " [  5.13279382 -10.39861083]\n",
      " [-51.90574812  -2.70901006]\n",
      " [ 43.12219501   6.20795735]\n",
      " [ 20.36629026 -18.18461147]\n",
      " [ 13.09993481  10.79059778]\n",
      " [  8.57108959  16.13387951]\n",
      " [ 27.30128634  13.10083877]\n",
      " [ 44.68163556 -14.64899255]\n",
      " [ 28.02836691 -21.11973761]\n",
      " [ 43.99747007 -19.10449253]\n",
      " [-31.59499938  14.71554543]\n",
      " [-34.87962847  -2.807086  ]\n",
      " [-30.47378358  10.68277436]\n",
      " [ 48.42392734  -7.95439219]\n",
      " [  2.5854161    7.37247922]\n",
      " [ 21.0111392   11.29366925]\n",
      " [ 15.34274446 -11.97373147]\n",
      " [ 48.12018465  13.33824485]\n",
      " [ 37.08284388  12.12467114]\n",
      " [-18.42509236  20.48756307]\n",
      " [ 37.93511897  15.68695261]\n",
      " [ 37.26567548  24.05819596]\n",
      " [ 19.37286033 -10.36679366]\n",
      " [-32.12079067  30.58009858]\n",
      " [ 20.37049978 -34.64032626]\n",
      " [  2.76104337  -1.3203484 ]\n",
      " [ 21.24278823  13.42464832]\n",
      " [ 43.93582273  10.42519746]\n",
      " [ 37.22592255  -9.73634257]\n",
      " [-23.50486879   3.8688052 ]\n",
      " [  8.42744074  18.63322318]\n",
      " [-54.25765432   9.73934713]\n",
      " [  5.58335024   1.14098359]\n",
      " [-22.6814912    7.93374148]\n",
      " [-31.53130876  -3.2829945 ]\n",
      " [-17.10455084   4.99075442]\n",
      " [ 33.63658963 -12.00317219]\n",
      " [ 11.37971807  16.14985093]\n",
      " [ -3.01006301  -2.46302875]\n",
      " [-11.99828531  -0.99319941]\n",
      " [ 25.8467452  -19.58487867]\n",
      " [ 30.97853131 -24.03813306]\n",
      " [ 44.7523899  -14.08450135]\n",
      " [-19.74216806  -3.92571132]\n",
      " [ 11.74774298  12.88158831]]\n"
     ]
    }
   ],
   "source": [
    "# Your code here:\n",
    "dot = np.dot(tsanimals,pca.factors)\n",
    "#print(dot)"
   ]
  },
  {
   "cell_type": "markdown",
   "metadata": {},
   "source": [
    "# Challenge 3 - Plotting the Data\n",
    "\n",
    "Now that we have reduced our cats and dogs arrays, we can easily plot the data in a way that the human eye can understand. We can look at this plot to see whether there are differences between the cat and dog images. \n",
    "\n",
    "In the cell below, turn the two dimensional projection into a pandas dataframe and name the columns `pc1`, and `pc2` respectively."
   ]
  },
  {
   "cell_type": "code",
   "execution_count": 15,
   "metadata": {},
   "outputs": [
    {
     "data": {
      "text/html": [
       "<div>\n",
       "<style scoped>\n",
       "    .dataframe tbody tr th:only-of-type {\n",
       "        vertical-align: middle;\n",
       "    }\n",
       "\n",
       "    .dataframe tbody tr th {\n",
       "        vertical-align: top;\n",
       "    }\n",
       "\n",
       "    .dataframe thead th {\n",
       "        text-align: right;\n",
       "    }\n",
       "</style>\n",
       "<table border=\"1\" class=\"dataframe\">\n",
       "  <thead>\n",
       "    <tr style=\"text-align: right;\">\n",
       "      <th></th>\n",
       "      <th>pc1</th>\n",
       "      <th>pc2</th>\n",
       "    </tr>\n",
       "  </thead>\n",
       "  <tbody>\n",
       "    <tr>\n",
       "      <th>0</th>\n",
       "      <td>-45.740963</td>\n",
       "      <td>16.132279</td>\n",
       "    </tr>\n",
       "    <tr>\n",
       "      <th>1</th>\n",
       "      <td>-37.514777</td>\n",
       "      <td>-20.374530</td>\n",
       "    </tr>\n",
       "    <tr>\n",
       "      <th>2</th>\n",
       "      <td>11.674580</td>\n",
       "      <td>-15.319465</td>\n",
       "    </tr>\n",
       "    <tr>\n",
       "      <th>3</th>\n",
       "      <td>-4.592364</td>\n",
       "      <td>-35.652442</td>\n",
       "    </tr>\n",
       "    <tr>\n",
       "      <th>4</th>\n",
       "      <td>-32.797678</td>\n",
       "      <td>4.083163</td>\n",
       "    </tr>\n",
       "    <tr>\n",
       "      <th>...</th>\n",
       "      <td>...</td>\n",
       "      <td>...</td>\n",
       "    </tr>\n",
       "    <tr>\n",
       "      <th>155</th>\n",
       "      <td>25.846745</td>\n",
       "      <td>-19.584879</td>\n",
       "    </tr>\n",
       "    <tr>\n",
       "      <th>156</th>\n",
       "      <td>30.978531</td>\n",
       "      <td>-24.038133</td>\n",
       "    </tr>\n",
       "    <tr>\n",
       "      <th>157</th>\n",
       "      <td>44.752390</td>\n",
       "      <td>-14.084501</td>\n",
       "    </tr>\n",
       "    <tr>\n",
       "      <th>158</th>\n",
       "      <td>-19.742168</td>\n",
       "      <td>-3.925711</td>\n",
       "    </tr>\n",
       "    <tr>\n",
       "      <th>159</th>\n",
       "      <td>11.747743</td>\n",
       "      <td>12.881588</td>\n",
       "    </tr>\n",
       "  </tbody>\n",
       "</table>\n",
       "<p>160 rows × 2 columns</p>\n",
       "</div>"
      ],
      "text/plain": [
       "           pc1        pc2\n",
       "0   -45.740963  16.132279\n",
       "1   -37.514777 -20.374530\n",
       "2    11.674580 -15.319465\n",
       "3    -4.592364 -35.652442\n",
       "4   -32.797678   4.083163\n",
       "..         ...        ...\n",
       "155  25.846745 -19.584879\n",
       "156  30.978531 -24.038133\n",
       "157  44.752390 -14.084501\n",
       "158 -19.742168  -3.925711\n",
       "159  11.747743  12.881588\n",
       "\n",
       "[160 rows x 2 columns]"
      ]
     },
     "execution_count": 15,
     "metadata": {},
     "output_type": "execute_result"
    }
   ],
   "source": [
    "# Your code here:\n",
    "data=pd.DataFrame(dot,columns=['pc1','pc2'])\n",
    "data"
   ]
  },
  {
   "cell_type": "markdown",
   "metadata": {},
   "source": [
    "Create a labels list. This list will be of size 160. The first 80 elements in the list will be the word `blue`, and the last 80 elements will be `red`. This will ensure that all dog observations will be colored in blue and all cats will be colored in red. Name this list `colors`."
   ]
  },
  {
   "cell_type": "code",
   "execution_count": 23,
   "metadata": {},
   "outputs": [
    {
     "name": "stdout",
     "output_type": "stream",
     "text": [
      "80\n",
      "80\n",
      "['blue', 'blue', 'blue', 'blue', 'blue', 'blue', 'blue', 'blue', 'blue', 'blue', 'blue', 'blue', 'blue', 'blue', 'blue', 'blue', 'blue', 'blue', 'blue', 'blue', 'blue', 'blue', 'blue', 'blue', 'blue', 'blue', 'blue', 'blue', 'blue', 'blue', 'blue', 'blue', 'blue', 'blue', 'blue', 'blue', 'blue', 'blue', 'blue', 'blue', 'blue', 'blue', 'blue', 'blue', 'blue', 'blue', 'blue', 'blue', 'blue', 'blue', 'blue', 'blue', 'blue', 'blue', 'blue', 'blue', 'blue', 'blue', 'blue', 'blue', 'blue', 'blue', 'blue', 'blue', 'blue', 'blue', 'blue', 'blue', 'blue', 'blue', 'blue', 'blue', 'blue', 'blue', 'blue', 'blue', 'blue', 'blue', 'blue', 'blue', 'red', 'red', 'red', 'red', 'red', 'red', 'red', 'red', 'red', 'red', 'red', 'red', 'red', 'red', 'red', 'red', 'red', 'red', 'red', 'red', 'red', 'red', 'red', 'red', 'red', 'red', 'red', 'red', 'red', 'red', 'red', 'red', 'red', 'red', 'red', 'red', 'red', 'red', 'red', 'red', 'red', 'red', 'red', 'red', 'red', 'red', 'red', 'red', 'red', 'red', 'red', 'red', 'red', 'red', 'red', 'red', 'red', 'red', 'red', 'red', 'red', 'red', 'red', 'red', 'red', 'red', 'red', 'red', 'red', 'red', 'red', 'red', 'red', 'red', 'red', 'red', 'red', 'red', 'red', 'red']\n"
     ]
    }
   ],
   "source": [
    "# Your code here:\n",
    "blue = ['blue' for x in list(range(0,80))]\n",
    "red = ['red' for x in list(range(0,80))]\n",
    "print(len(blue))\n",
    "print(len(red))\n",
    "colors = blue+red\n",
    "print(colors)"
   ]
  },
  {
   "cell_type": "markdown",
   "metadata": {},
   "source": [
    "Create a scatter plot of `pc1` and `pc2` below. Use the `colors` list above to color the observations by setting `c=colors`."
   ]
  },
  {
   "cell_type": "code",
   "execution_count": 26,
   "metadata": {},
   "outputs": [
    {
     "data": {
      "text/plain": [
       "<matplotlib.collections.PathCollection at 0x7fcb6a7993d0>"
      ]
     },
     "execution_count": 26,
     "metadata": {},
     "output_type": "execute_result"
    },
    {
     "data": {
      "image/png": "[encoded data removed]",
      "text/plain": [
       "<Figure size 432x288 with 1 Axes>"
      ]
     },
     "metadata": {
      "needs_background": "light"
     },
     "output_type": "display_data"
    }
   ],
   "source": [
    "# Your code here:\n",
    "plt.scatter(data[\"pc1\"], data[\"pc2\"], c= colors)\n"
   ]
  },
  {
   "cell_type": "markdown",
   "metadata": {},
   "source": [
    "Do you see a clear separation between cats and dogs? Write your answer below."
   ]
  },
  {
   "cell_type": "code",
   "execution_count": null,
   "metadata": {},
   "outputs": [],
   "source": [
    "# Your conclusions here:\n",
    "\n",
    "#hay separacion entre perros y gatos, que supongo que es por los diferentes tonos de las imagenes, \n",
    "#cuyos valores se obtioenen lo la formula de PCA"
   ]
  },
  {
   "cell_type": "code",
   "execution_count": null,
   "metadata": {},
   "outputs": [],
   "source": []
  }
 ],
 "metadata": {
  "kernelspec": {
   "display_name": "Python 3",
   "language": "python",
   "name": "python3"
  },
  "language_info": {
   "codemirror_mode": {
    "name": "ipython",
    "version": 3
   },
   "file_extension": ".py",
   "mimetype": "text/x-python",
   "name": "python",
   "nbconvert_exporter": "python",
   "pygments_lexer": "ipython3",
   "version": "3.8.2"
  }
 },
 "nbformat": 4,
 "nbformat_minor": 2
}
