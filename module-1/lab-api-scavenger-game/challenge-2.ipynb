{
 "cells": [
  {
   "cell_type": "code",
   "execution_count": 1,
   "metadata": {},
   "outputs": [
    {
     "data": {
      "text/plain": [
       "True"
      ]
     },
     "execution_count": 1,
     "metadata": {},
     "output_type": "execute_result"
    }
   ],
   "source": [
    "import requests\n",
    "import json\n",
    "import os\n",
    "from dotenv import load_dotenv\n",
    "load_dotenv()"
   ]
  },
  {
   "cell_type": "code",
   "execution_count": 2,
   "metadata": {},
   "outputs": [],
   "source": [
    "params = {\n",
    "    \"page\":1,\n",
    "    \"per_page\":100\n",
    "    \n",
    "}  \n",
    "final_url =\"/repos/ironhack-datalabs/datamad0820/commits/15447/.5674\"   \n",
    "    \n",
    "def get_repo_info(endpoint, apiKey=os.getenv(\"API_KEY\"), query_params={}): \n",
    "    \"\"\"\n",
    "    Get data from github using query parameters and passing a custom apikey header\n",
    "    \"\"\"\n",
    "    \n",
    "    # Compose the endpoint url\n",
    "    baseUrl = \"https://api.github.com\"\n",
    "    url = f\"{baseUrl}{endpoint}\"\n",
    "\n",
    "    # Create the headers\n",
    "    headers = {\n",
    "        \"Authorization\": f\"Bearer {apiKey}\"\n",
    "    }\n",
    "    # make the request and get the response using HTTP GET verb \n",
    "    #res = requests.get(url, params=query_params, headers=headers)\n",
    "    pages = []\n",
    "    for i in range(10):\n",
    "        res = requests.get(url, params={\"page\": f\"{i+1}\",\"per_page\":100}, headers=headers)\n",
    "        data = res.json()\n",
    "        if len(data)== 0:\n",
    "            break;\n",
    "        pages.append(data)\n",
    "   \n",
    "    #print(f\"Request data to {res.url} status_code:{res.status_code}\")\n",
    "    \n",
    "    \n",
    "    if res.status_code != 200:\n",
    "        raise ValueError(f'Invalid github api call: {data[\"message\"]}')    \n",
    "    \n",
    "    return pages\n"
   ]
  },
  {
   "cell_type": "code",
   "execution_count": 3,
   "metadata": {
    "scrolled": false
   },
   "outputs": [],
   "source": [
    "repo = get_repo_info(final_url)"
   ]
  },
  {
   "cell_type": "code",
   "execution_count": 4,
   "metadata": {},
   "outputs": [
    {
     "name": "stdout",
     "output_type": "stream",
     "text": [
      "the total commits are 4\n"
     ]
    }
   ],
   "source": [
    "#print(len(repo))\n",
    "suma = 0\n",
    "for item in repo:\n",
    "    suma += len(item)\n",
    "print(f\"the total commits are {suma}\")"
   ]
  },
  {
   "cell_type": "code",
   "execution_count": null,
   "metadata": {},
   "outputs": [],
   "source": []
  }
 ],
 "metadata": {
  "kernelspec": {
   "display_name": "Python 3",
   "language": "python",
   "name": "python3"
  },
  "language_info": {
   "codemirror_mode": {
    "name": "ipython",
    "version": 3
   },
   "file_extension": ".py",
   "mimetype": "text/x-python",
   "name": "python",
   "nbconvert_exporter": "python",
   "pygments_lexer": "ipython3",
   "version": "3.8.2"
  }
 },
 "nbformat": 4,
 "nbformat_minor": 4
}
