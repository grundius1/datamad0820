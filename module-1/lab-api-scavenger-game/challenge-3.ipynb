{
 "cells": [
  {
   "cell_type": "code",
   "execution_count": 1,
   "metadata": {},
   "outputs": [
    {
     "data": {
      "text/plain": [
       "True"
      ]
     },
     "execution_count": 1,
     "metadata": {},
     "output_type": "execute_result"
    }
   ],
   "source": [
    "import requests\n",
    "import json\n",
    "import os\n",
    "from dotenv import load_dotenv\n",
    "load_dotenv()"
   ]
  },
  {
   "cell_type": "code",
   "execution_count": 2,
   "metadata": {},
   "outputs": [],
   "source": [
    "params = {\n",
    "    \"page\":1,\n",
    "    \"per_page\":100\n",
    "    \n",
    "}  \n",
    "final_url =\"/repos/ironhack-datalabs/scavenger/contents\"   \n",
    "    \n",
    "def get_repo_info(endpoint, apiKey=os.getenv(\"API_KEY\"), query_params={}): \n",
    "    \"\"\"\n",
    "    Get data from github using query parameters and passing a custom apikey header\n",
    "    \"\"\"\n",
    "    \n",
    "    # Compose the endpoint url\n",
    "    baseUrl = \"https://api.github.com\"\n",
    "    url = f\"{baseUrl}{endpoint}\"\n",
    "\n",
    "    # Create the headers\n",
    "    headers = {\n",
    "        \"Authorization\": f\"Bearer {apiKey}\"\n",
    "    }\n",
    "    # make the request and get the response using HTTP GET verb \n",
    "    res = requests.get(url, params=query_params, headers=headers)\n",
    "   \n",
    "    print(f\"Request data to {res.url} status_code:{res.status_code}\")\n",
    "    data = res.json()\n",
    "    \n",
    "    if res.status_code != 200:\n",
    "        raise ValueError(f'Invalid github api call: {data[\"message\"]}')    \n",
    "    \n",
    "    return data"
   ]
  },
  {
   "cell_type": "code",
   "execution_count": 3,
   "metadata": {},
   "outputs": [
    {
     "name": "stdout",
     "output_type": "stream",
     "text": [
      "Request data to https://api.github.com/repos/ironhack-datalabs/scavenger/contents status_code:200\n"
     ]
    }
   ],
   "source": [
    "repo = get_repo_info(final_url)"
   ]
  },
  {
   "cell_type": "code",
   "execution_count": 4,
   "metadata": {
    "scrolled": false
   },
   "outputs": [],
   "source": [
    "folders = []\n",
    "for i in range(len(repo)):\n",
    "    if repo[i][\"name\"] == \".gitignore\":\n",
    "        pass\n",
    "    else:\n",
    "        folders.append(repo[i][\"name\"])"
   ]
  },
  {
   "cell_type": "code",
   "execution_count": 5,
   "metadata": {},
   "outputs": [
    {
     "name": "stdout",
     "output_type": "stream",
     "text": [
      "Request data to https://api.github.com/repos/ironhack-datalabs/scavenger/contents/15024 status_code:200\n",
      "Request data to https://api.github.com/repos/ironhack-datalabs/scavenger/contents/15534 status_code:200\n",
      "Request data to https://api.github.com/repos/ironhack-datalabs/scavenger/contents/17020 status_code:200\n",
      "Request data to https://api.github.com/repos/ironhack-datalabs/scavenger/contents/30351 status_code:200\n",
      "Request data to https://api.github.com/repos/ironhack-datalabs/scavenger/contents/40303 status_code:200\n",
      "Request data to https://api.github.com/repos/ironhack-datalabs/scavenger/contents/44639 status_code:200\n",
      "Request data to https://api.github.com/repos/ironhack-datalabs/scavenger/contents/45525 status_code:200\n",
      "Request data to https://api.github.com/repos/ironhack-datalabs/scavenger/contents/47222 status_code:200\n",
      "Request data to https://api.github.com/repos/ironhack-datalabs/scavenger/contents/47830 status_code:200\n",
      "Request data to https://api.github.com/repos/ironhack-datalabs/scavenger/contents/49418 status_code:200\n",
      "Request data to https://api.github.com/repos/ironhack-datalabs/scavenger/contents/50896 status_code:200\n",
      "Request data to https://api.github.com/repos/ironhack-datalabs/scavenger/contents/55417 status_code:200\n",
      "Request data to https://api.github.com/repos/ironhack-datalabs/scavenger/contents/55685 status_code:200\n",
      "Request data to https://api.github.com/repos/ironhack-datalabs/scavenger/contents/60224 status_code:200\n",
      "Request data to https://api.github.com/repos/ironhack-datalabs/scavenger/contents/64880 status_code:200\n",
      "Request data to https://api.github.com/repos/ironhack-datalabs/scavenger/contents/66032 status_code:200\n",
      "Request data to https://api.github.com/repos/ironhack-datalabs/scavenger/contents/68848 status_code:200\n",
      "Request data to https://api.github.com/repos/ironhack-datalabs/scavenger/contents/70751 status_code:200\n",
      "Request data to https://api.github.com/repos/ironhack-datalabs/scavenger/contents/70985 status_code:200\n",
      "Request data to https://api.github.com/repos/ironhack-datalabs/scavenger/contents/88596 status_code:200\n",
      "Request data to https://api.github.com/repos/ironhack-datalabs/scavenger/contents/89046 status_code:200\n",
      "Request data to https://api.github.com/repos/ironhack-datalabs/scavenger/contents/89338 status_code:200\n",
      "Request data to https://api.github.com/repos/ironhack-datalabs/scavenger/contents/91701 status_code:200\n",
      "Request data to https://api.github.com/repos/ironhack-datalabs/scavenger/contents/97881 status_code:200\n",
      "Request data to https://api.github.com/repos/ironhack-datalabs/scavenger/contents/98750 status_code:200\n"
     ]
    }
   ],
   "source": [
    "archivos = []\n",
    "for folder in folders:\n",
    "    folders_url =f\"/repos/ironhack-datalabs/scavenger/contents/{folder}\"\n",
    "    files = get_repo_info(folders_url)\n",
    "    for i in range(len(files)):\n",
    "        if \"scavengerhunt\" in files[i][\"name\"]:\n",
    "            archivos.append([folder,files[i][\"name\"],files[i][\"download_url\"]])\n",
    "        else:\n",
    "            pass"
   ]
  },
  {
   "cell_type": "code",
   "execution_count": 6,
   "metadata": {},
   "outputs": [],
   "source": [
    "from operator import itemgetter\n",
    "archivos = sorted(archivos, key=itemgetter(1))"
   ]
  },
  {
   "cell_type": "code",
   "execution_count": 9,
   "metadata": {},
   "outputs": [],
   "source": [
    "joke = \"\"\n",
    "for item in archivos:\n",
    "    joke += requests.get(item[2]).text\n"
   ]
  },
  {
   "cell_type": "code",
   "execution_count": 10,
   "metadata": {},
   "outputs": [],
   "source": [
    "joke = joke.replace(\"\\n\", \" \")"
   ]
  },
  {
   "cell_type": "code",
   "execution_count": 11,
   "metadata": {},
   "outputs": [
    {
     "data": {
      "text/plain": [
       "'In data science, 80 percent of time spent is preparing data, 20 percent of time is spent complaining about the need to prepare data. '"
      ]
     },
     "execution_count": 11,
     "metadata": {},
     "output_type": "execute_result"
    }
   ],
   "source": [
    "joke"
   ]
  },
  {
   "cell_type": "code",
   "execution_count": null,
   "metadata": {},
   "outputs": [],
   "source": []
  }
 ],
 "metadata": {
  "kernelspec": {
   "display_name": "Python 3",
   "language": "python",
   "name": "python3"
  },
  "language_info": {
   "codemirror_mode": {
    "name": "ipython",
    "version": 3
   },
   "file_extension": ".py",
   "mimetype": "text/x-python",
   "name": "python",
   "nbconvert_exporter": "python",
   "pygments_lexer": "ipython3",
   "version": "3.8.2"
  }
 },
 "nbformat": 4,
 "nbformat_minor": 4
}
