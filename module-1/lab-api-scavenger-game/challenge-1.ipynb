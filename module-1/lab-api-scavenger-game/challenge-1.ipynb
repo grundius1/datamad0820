{
 "cells": [
  {
   "cell_type": "code",
   "execution_count": 1,
   "metadata": {},
   "outputs": [
    {
     "data": {
      "text/plain": [
       "True"
      ]
     },
     "execution_count": 1,
     "metadata": {},
     "output_type": "execute_result"
    }
   ],
   "source": [
    "import requests\n",
    "import json\n",
    "import os\n",
    "from dotenv import load_dotenv\n",
    "load_dotenv()"
   ]
  },
  {
   "cell_type": "code",
   "execution_count": 2,
   "metadata": {
    "scrolled": true
   },
   "outputs": [],
   "source": [
    "#url = \"https://api.github.com/repos/ironhack-datalabs/mad-oct-2018/forks\"\n",
    "#res = requests.get(url)\n",
    "#repo = json.loads(res.text)\n"
   ]
  },
  {
   "cell_type": "code",
   "execution_count": 3,
   "metadata": {},
   "outputs": [],
   "source": [
    "params = {\n",
    "    \"page\":1,\n",
    "    \"per_page\":100\n",
    "    \n",
    "}  \n",
    "final_url =\"/repos/ironhack-datalabs/mad-oct-2018/forks\"   \n",
    "    \n",
    "def get_repo_info(endpoint, apiKey=os.getenv(\"API_KEY\"), query_params={}): \n",
    "    \"\"\"\n",
    "    Get data from github using query parameters and passing a custom apikey header\n",
    "    \"\"\"\n",
    "    \n",
    "    # Compose the endpoint url\n",
    "    baseUrl = \"https://api.github.com\"\n",
    "    url = f\"{baseUrl}{endpoint}\"\n",
    "\n",
    "    # Create the headers\n",
    "    headers = {\n",
    "        \"Authorization\": f\"Bearer {apiKey}\"\n",
    "    }\n",
    "    # make the request and get the response using HTTP GET verb \n",
    "    res = requests.get(url, params=query_params, headers=headers)\n",
    "   \n",
    "    print(f\"Request data to {res.url} status_code:{res.status_code}\")\n",
    "    data = res.json()\n",
    "    \n",
    "    if res.status_code != 200:\n",
    "        raise ValueError(f'Invalid github api call: {data[\"message\"]}')    \n",
    "    \n",
    "    return data\n"
   ]
  },
  {
   "cell_type": "code",
   "execution_count": 4,
   "metadata": {},
   "outputs": [
    {
     "name": "stdout",
     "output_type": "stream",
     "text": [
      "Request data to https://api.github.com/repos/ironhack-datalabs/mad-oct-2018/forks?page=1&per_page=100 status_code:200\n",
      "17\n"
     ]
    }
   ],
   "source": [
    "repo = get_repo_info(final_url,query_params = params)\n",
    "print(len(repo))"
   ]
  },
  {
   "cell_type": "code",
   "execution_count": 5,
   "metadata": {
    "scrolled": true
   },
   "outputs": [],
   "source": [
    "def languages(repo_info,apiKey=os.getenv(\"API_KEY\"), query_params={}):\n",
    "    headers = {\n",
    "        \"Authorization\": f\"Bearer {apiKey}\"\n",
    "    }\n",
    "    languages =[]\n",
    "    for item in repo_info:\n",
    "        #print(item[\"owner\"][\"login\"])\n",
    "        res2 = requests.get(item[\"languages_url\"], params = query_params,headers=headers)\n",
    "        lista = res2.json()\n",
    "        for item in list(lista.keys()):\n",
    "            if item not in languages:\n",
    "                languages.append(item)\n",
    "\n",
    "    return languages\n",
    "    "
   ]
  },
  {
   "cell_type": "code",
   "execution_count": 6,
   "metadata": {
    "scrolled": false
   },
   "outputs": [
    {
     "name": "stdout",
     "output_type": "stream",
     "text": [
      "Brunadiasmiguel\n",
      "Spurda\n",
      "ToniPons97\n",
      "rsennes\n",
      "gggfaria\n",
      "nancyulric\n",
      "lmartinezruizit\n",
      "eye8\n",
      "ArieHassan\n",
      "cmvalma\n",
      "criraca\n",
      "AlbertoCastellanos\n",
      "elenajpp\n",
      "pablobarrio\n",
      "miriammg\n",
      "albertogcmr\n",
      "marisfont\n"
     ]
    },
    {
     "data": {
      "text/plain": [
       "['Jupyter Notebook', 'HTML', 'Python', 'Shell']"
      ]
     },
     "execution_count": 6,
     "metadata": {},
     "output_type": "execute_result"
    }
   ],
   "source": [
    "languages(repo, query_params = params)"
   ]
  },
  {
   "cell_type": "code",
   "execution_count": null,
   "metadata": {},
   "outputs": [],
   "source": []
  }
 ],
 "metadata": {
  "kernelspec": {
   "display_name": "Python 3",
   "language": "python",
   "name": "python3"
  },
  "language_info": {
   "codemirror_mode": {
    "name": "ipython",
    "version": 3
   },
   "file_extension": ".py",
   "mimetype": "text/x-python",
   "name": "python",
   "nbconvert_exporter": "python",
   "pygments_lexer": "ipython3",
   "version": "3.8.2"
  }
 },
 "nbformat": 4,
 "nbformat_minor": 4
}
