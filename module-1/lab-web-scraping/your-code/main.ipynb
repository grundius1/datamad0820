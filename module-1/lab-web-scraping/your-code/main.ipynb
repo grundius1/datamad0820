{
 "cells": [
  {
   "cell_type": "markdown",
   "metadata": {},
   "source": [
    "# Web Scraping Lab\n",
    "\n",
    "You will find in this notebook some scrapy exercises to practise your scraping skills.\n",
    "\n",
    "**Tips:**\n",
    "\n",
    "- Check the response status code for each request to ensure you have obtained the intended contennt.\n",
    "- Print the response text in each request to understand the kind of info you are getting and its format.\n",
    "- Check for patterns in the response text to extract the data/info requested in each question.\n",
    "- Visit each url and take a look at its source through Chrome DevTools. You'll need to identify the html tags, special class names etc. used for the html content you are expected to extract."
   ]
  },
  {
   "cell_type": "markdown",
   "metadata": {},
   "source": [
    "- [Requests library](http://docs.python-requests.org/en/master/#the-user-guide) documentation \n",
    "- [Beautiful Soup Doc](https://www.crummy.com/software/BeautifulSoup/bs4/doc/)\n",
    "- [Urllib](https://docs.python.org/3/library/urllib.html#module-urllib)\n",
    "- [re lib](https://docs.python.org/3/library/re.html)\n",
    "- [lxml lib](https://lxml.de/)\n",
    "- [Scrapy](https://scrapy.org/)\n",
    "- [List of HTTP status codes](https://en.wikipedia.org/wiki/List_of_HTTP_status_codes)\n",
    "- [HTML basics](http://www.simplehtmlguide.com/cheatsheet.php)\n",
    "- [CSS basics](https://www.cssbasics.com/#page_start)"
   ]
  },
  {
   "cell_type": "markdown",
   "metadata": {},
   "source": [
    "#### Below are the libraries and modules you may need. `requests`,  `BeautifulSoup` and `pandas` are imported for you. If you prefer to use additional libraries feel free to uncomment them."
   ]
  },
  {
   "cell_type": "code",
   "execution_count": 82,
   "metadata": {},
   "outputs": [],
   "source": [
    "import requests\n",
    "import bs4\n",
    "from bs4 import BeautifulSoup\n",
    "import pandas as pd\n",
    "# from pprint import pprint\n",
    "# from lxml import html\n",
    "# from lxml.html import fromstring\n",
    "# import urllib.request\n",
    "# from urllib.request import urlopen\n",
    "# import random\n",
    "import re\n",
    "# import scrapy"
   ]
  },
  {
   "cell_type": "markdown",
   "metadata": {},
   "source": [
    "#### Download, parse (using BeautifulSoup), and print the content from the Trending Developers page from GitHub:"
   ]
  },
  {
   "cell_type": "code",
   "execution_count": 2,
   "metadata": {},
   "outputs": [],
   "source": [
    "# This is the url you will scrape in this exercise\n",
    "url = 'https://github.com/trending/developers'"
   ]
  },
  {
   "cell_type": "code",
   "execution_count": 3,
   "metadata": {},
   "outputs": [],
   "source": [
    "#your code\n",
    "response = requests.get(\"https://github.com/trending/developers\")\n",
    "soup = BeautifulSoup(response.text, 'html.parser')"
   ]
  },
  {
   "cell_type": "markdown",
   "metadata": {},
   "source": [
    "#### Display the names of the trending developers retrieved in the previous step.\n",
    "\n",
    "Your output should be a Python list of developer names. Each name should not contain any html tag.\n",
    "\n",
    "**Instructions:**\n",
    "\n",
    "1. Find out the html tag and class names used for the developer names. You can achieve this using Chrome DevTools.\n",
    "\n",
    "1. Use BeautifulSoup to extract all the html elements that contain the developer names.\n",
    "\n",
    "1. Use string manipulation techniques to replace whitespaces and linebreaks (i.e. `\\n`) in the *text* of each html element. Use a list to store the clean names.\n",
    "\n",
    "1. Print the list of names.\n",
    "\n",
    "Your output should look like below:\n",
    "\n",
    "```\n",
    "['trimstray (@trimstray)',\n",
    " 'joewalnes (JoeWalnes)',\n",
    " 'charlax (Charles-AxelDein)',\n",
    " 'ForrestKnight (ForrestKnight)',\n",
    " 'revery-ui (revery-ui)',\n",
    " 'alibaba (Alibaba)',\n",
    " 'Microsoft (Microsoft)',\n",
    " 'github (GitHub)',\n",
    " 'facebook (Facebook)',\n",
    " 'boazsegev (Bo)',\n",
    " 'google (Google)',\n",
    " 'cloudfetch',\n",
    " 'sindresorhus (SindreSorhus)',\n",
    " 'tensorflow',\n",
    " 'apache (TheApacheSoftwareFoundation)',\n",
    " 'DevonCrawford (DevonCrawford)',\n",
    " 'ARMmbed (ArmMbed)',\n",
    " 'vuejs (vuejs)',\n",
    " 'fastai (fast.ai)',\n",
    " 'QiShaoXuan (Qi)',\n",
    " 'joelparkerhenderson (JoelParkerHenderson)',\n",
    " 'torvalds (LinusTorvalds)',\n",
    " 'CyC2018',\n",
    " 'komeiji-satori (神楽坂覚々)',\n",
    " 'script-8']\n",
    " ```"
   ]
  },
  {
   "cell_type": "code",
   "execution_count": 4,
   "metadata": {},
   "outputs": [
    {
     "data": {
      "text/plain": [
       "['William Candillon (wcandillon)',\n",
       " 'Han Xiao (hanxiao)',\n",
       " 'Arvid Norberg (arvidn)',\n",
       " 'Franck Nijhof (frenck)',\n",
       " 'Javier Suárez (jsuarezruiz)',\n",
       " 'Manfred Touron (moul)',\n",
       " 'Rob Norris (tpolecat)',\n",
       " 'Chocobozzz (Chocobozzz)',\n",
       " 'Ruslan Konviser (evereq)',\n",
       " 'Eric Niebler (ericniebler)',\n",
       " 'MinJae Kwon (mingrammer)',\n",
       " 'Carlos Alexandro Becker (caarlos0)',\n",
       " 'Taylor Otwell (taylorotwell)',\n",
       " 'Fred K. Schott (FredKSchott)',\n",
       " 'Igor Randjelovic (rigor789)',\n",
       " 'Tim Gross (tgross)',\n",
       " 'Fons van der Plas (fonsp)',\n",
       " 'Rico Huijbers (rix0rrr)',\n",
       " 'Zoltan Kochan (zkochan)',\n",
       " 'Benoit Chesneau (benoitc)',\n",
       " 'Kazuho Oku (kazuho)',\n",
       " 'Matt Perry (InventingWithMonster)',\n",
       " 'Jake Archibald (jakearchibald)',\n",
       " 'Tom Moor (tommoor)',\n",
       " 'Daichi Furiya (wasabeef)']"
      ]
     },
     "execution_count": 4,
     "metadata": {},
     "output_type": "execute_result"
    }
   ],
   "source": [
    "#your code\n",
    "articles = soup.find_all('div', class_='col-md-6')\n",
    "def personselector(data):\n",
    "    persons = []\n",
    "    for item in range(len(data))[::2]:\n",
    "        name = re.sub(\"\\n\",\" \",(data[item].text)).strip().split(\"  \")\n",
    "        persons.append(f\"{name[0]} ({name[-1].strip()})\")\n",
    "    return persons\n",
    "    \n",
    "personselector(articles)"
   ]
  },
  {
   "cell_type": "markdown",
   "metadata": {},
   "source": [
    "#### Display the trending Python repositories in GitHub\n",
    "\n",
    "The steps to solve this problem is similar to the previous one except that you need to find out the repository names instead of developer names."
   ]
  },
  {
   "cell_type": "code",
   "execution_count": 5,
   "metadata": {},
   "outputs": [],
   "source": [
    "# This is the url you will scrape in this exercise\n",
    "url = 'https://github.com/trending/python?since=daily'"
   ]
  },
  {
   "cell_type": "code",
   "execution_count": 6,
   "metadata": {},
   "outputs": [],
   "source": [
    "#your code\n",
    "response2 = requests.get(url)\n",
    "soup2 = BeautifulSoup(response2.text, 'html.parser')\n"
   ]
  },
  {
   "cell_type": "code",
   "execution_count": 7,
   "metadata": {},
   "outputs": [
    {
     "data": {
      "text/plain": [
       "['mingrammer /diagrams',\n",
       " 'PyTorchLightning /pytorch-lightning',\n",
       " 'scikit-learn /scikit-learn',\n",
       " 'baowenbo /DAIN',\n",
       " 'Rudrabha /Wav2Lip',\n",
       " 'blacklanternsecurity /TREVORspray',\n",
       " 'facebookresearch /detectron2',\n",
       " 'vaastav /Fantasy-Premier-League',\n",
       " 'huangsam /ultimate-python',\n",
       " 'kangvcar /InfoSpider',\n",
       " 'sowdust /tafferugli',\n",
       " 'celery /celery',\n",
       " 'huggingface /transformers',\n",
       " 'fighting41love /funNLP',\n",
       " 'Kr1s77 /awesome-python-login-model',\n",
       " 'iGhibli /iOS-DeviceSupport',\n",
       " 'home-assistant /core',\n",
       " 'MobSF /Mobile-Security-Framework-MobSF',\n",
       " 'geekcomputers /Python',\n",
       " 'tzutalin /labelImg',\n",
       " 'sunainapai /makesite',\n",
       " 'aristocratos /bpytop',\n",
       " 'richzhang /PerceptualSimilarity',\n",
       " 'apache /incubator-tvm',\n",
       " 'RasaHQ /rasa']"
      ]
     },
     "execution_count": 7,
     "metadata": {},
     "output_type": "execute_result"
    }
   ],
   "source": [
    "repositories = soup2.find_all('h1', class_='h3 lh-condensed')\n",
    "def repisitoriesselector(data):\n",
    "    persons = []\n",
    "    for item in range(len(data)):\n",
    "        name = re.sub(\"\\n\",\" \",(data[item].text)).strip().split(\"  \")\n",
    "        persons.append(f\"{name[0]}{name[-1].strip()}\")\n",
    "    return persons\n",
    "repisitoriesselector(repositories)"
   ]
  },
  {
   "cell_type": "markdown",
   "metadata": {},
   "source": [
    "#### Display all the image links from Walt Disney wikipedia page"
   ]
  },
  {
   "cell_type": "code",
   "execution_count": 8,
   "metadata": {},
   "outputs": [],
   "source": [
    "# This is the url you will scrape in this exercise\n",
    "url = 'https://en.wikipedia.org/wiki/Walt_Disney'"
   ]
  },
  {
   "cell_type": "code",
   "execution_count": 9,
   "metadata": {},
   "outputs": [],
   "source": [
    "#your code\n",
    "response3 = requests.get(url)\n",
    "soup3 = BeautifulSoup(response3.text, 'html.parser')\n"
   ]
  },
  {
   "cell_type": "code",
   "execution_count": 10,
   "metadata": {},
   "outputs": [
    {
     "name": "stdout",
     "output_type": "stream",
     "text": [
      "//upload.wikimedia.org/wikipedia/en/thumb/e/e7/Cscr-featured.svg/20px-Cscr-featured.svg.png\n",
      "//upload.wikimedia.org/wikipedia/en/thumb/8/8c/Extended-protection-shackle.svg/20px-Extended-protection-shackle.svg.png\n",
      "//upload.wikimedia.org/wikipedia/commons/thumb/d/df/Walt_Disney_1946.JPG/220px-Walt_Disney_1946.JPG\n",
      "//upload.wikimedia.org/wikipedia/commons/thumb/8/87/Walt_Disney_1942_signature.svg/150px-Walt_Disney_1942_signature.svg.png\n",
      "//upload.wikimedia.org/wikipedia/commons/thumb/c/c4/Walt_Disney_envelope_ca._1921.jpg/220px-Walt_Disney_envelope_ca._1921.jpg\n",
      "//upload.wikimedia.org/wikipedia/commons/thumb/4/4d/Newman_Laugh-O-Gram_%281921%29.webm/220px-seek%3D2-Newman_Laugh-O-Gram_%281921%29.webm.jpg\n",
      "//upload.wikimedia.org/wikipedia/commons/thumb/0/0d/Trolley_Troubles_poster.jpg/170px-Trolley_Troubles_poster.jpg\n",
      "//upload.wikimedia.org/wikipedia/commons/thumb/7/71/Walt_Disney_and_his_cartoon_creation_%22Mickey_Mouse%22_-_National_Board_of_Review_Magazine.jpg/170px-Walt_Disney_and_his_cartoon_creation_%22Mickey_Mouse%22_-_National_Board_of_Review_Magazine.jpg\n",
      "//upload.wikimedia.org/wikipedia/en/thumb/4/4e/Steamboat-willie.jpg/170px-Steamboat-willie.jpg\n",
      "//upload.wikimedia.org/wikipedia/commons/thumb/5/57/Walt_Disney_1935.jpg/170px-Walt_Disney_1935.jpg\n",
      "//upload.wikimedia.org/wikipedia/commons/thumb/c/cd/Walt_Disney_Snow_white_1937_trailer_screenshot_%2813%29.jpg/220px-Walt_Disney_Snow_white_1937_trailer_screenshot_%2813%29.jpg\n",
      "//upload.wikimedia.org/wikipedia/commons/thumb/1/15/Disney_drawing_goofy.jpg/170px-Disney_drawing_goofy.jpg\n",
      "//upload.wikimedia.org/wikipedia/commons/thumb/1/13/DisneySchiphol1951.jpg/220px-DisneySchiphol1951.jpg\n",
      "//upload.wikimedia.org/wikipedia/commons/thumb/8/8c/WaltDisneyplansDisneylandDec1954.jpg/220px-WaltDisneyplansDisneylandDec1954.jpg\n",
      "//upload.wikimedia.org/wikipedia/commons/thumb/f/ff/Walt_disney_portrait_right.jpg/170px-Walt_disney_portrait_right.jpg\n",
      "//upload.wikimedia.org/wikipedia/commons/thumb/1/1a/Walt_Disney_Grave.JPG/170px-Walt_Disney_Grave.JPG\n",
      "//upload.wikimedia.org/wikipedia/commons/thumb/2/2d/Roy_O._Disney_with_Company_at_Press_Conference.jpg/170px-Roy_O._Disney_with_Company_at_Press_Conference.jpg\n",
      "//upload.wikimedia.org/wikipedia/commons/thumb/a/a9/Disney_Display_Case.JPG/170px-Disney_Display_Case.JPG\n",
      "//upload.wikimedia.org/wikipedia/commons/thumb/6/6c/Disney1968.jpg/170px-Disney1968.jpg\n",
      "//upload.wikimedia.org/wikipedia/en/thumb/8/8a/OOjs_UI_icon_edit-ltr-progressive.svg/10px-OOjs_UI_icon_edit-ltr-progressive.svg.png\n",
      "//upload.wikimedia.org/wikipedia/commons/thumb/4/44/The_Walt_Disney_Company_Logo.svg/120px-The_Walt_Disney_Company_Logo.svg.png\n",
      "//upload.wikimedia.org/wikipedia/commons/thumb/d/da/Animation_disc.svg/30px-Animation_disc.svg.png\n",
      "//upload.wikimedia.org/wikipedia/en/thumb/6/69/P_vip.svg/29px-P_vip.svg.png\n",
      "//upload.wikimedia.org/wikipedia/commons/thumb/1/1a/Magic_Kingdom_castle.jpg/24px-Magic_Kingdom_castle.jpg\n",
      "//upload.wikimedia.org/wikipedia/en/thumb/e/e7/Video-x-generic.svg/30px-Video-x-generic.svg.png\n",
      "//upload.wikimedia.org/wikipedia/commons/thumb/a/a3/Flag_of_Los_Angeles_County%2C_California.svg/30px-Flag_of_Los_Angeles_County%2C_California.svg.png\n",
      "//upload.wikimedia.org/wikipedia/commons/thumb/8/8c/Blank_television_set.svg/30px-Blank_television_set.svg.png\n",
      "//upload.wikimedia.org/wikipedia/en/thumb/a/a4/Flag_of_the_United_States.svg/30px-Flag_of_the_United_States.svg.png\n",
      "//upload.wikimedia.org/wikipedia/en/thumb/4/4a/Commons-logo.svg/22px-Commons-logo.svg.png\n",
      "//upload.wikimedia.org/wikipedia/commons/thumb/f/fa/Wikiquote-logo.svg/25px-Wikiquote-logo.svg.png\n",
      "//upload.wikimedia.org/wikipedia/commons/thumb/f/ff/Wikidata-logo.svg/30px-Wikidata-logo.svg.png\n",
      "//upload.wikimedia.org/wikipedia/en/thumb/8/8a/OOjs_UI_icon_edit-ltr-progressive.svg/10px-OOjs_UI_icon_edit-ltr-progressive.svg.png\n",
      "//en.wikipedia.org/wiki/Special:CentralAutoLogin/start?type=1x1\n",
      "/static/images/footer/wikimedia-button.png\n",
      "/static/images/footer/poweredby_mediawiki_88x31.png\n"
     ]
    }
   ],
   "source": [
    "images = soup3.find_all('img')\n",
    "for image in images:\n",
    "    print(image['src'])"
   ]
  },
  {
   "cell_type": "markdown",
   "metadata": {},
   "source": [
    "#### Retrieve an arbitary Wikipedia page of \"Python\" and create a list of links on that page"
   ]
  },
  {
   "cell_type": "code",
   "execution_count": 11,
   "metadata": {},
   "outputs": [],
   "source": [
    "# This is the url you will scrape in this exercise\n",
    "url ='https://en.wikipedia.org/wiki/Python_(mythology)' "
   ]
  },
  {
   "cell_type": "code",
   "execution_count": 12,
   "metadata": {},
   "outputs": [],
   "source": [
    "#your code\n",
    "response4 = requests.get(url)\n",
    "soup4 = BeautifulSoup(response4.text, 'html.parser')\n"
   ]
  },
  {
   "cell_type": "code",
   "execution_count": 48,
   "metadata": {},
   "outputs": [
    {
     "name": "stdout",
     "output_type": "stream",
     "text": [
      "<class 'bs4.element.Tag'>\n"
     ]
    },
    {
     "data": {
      "text/plain": [
       "['#mw-head',\n",
       " '#searchInput',\n",
       " '/wiki/Pythia',\n",
       " '/wiki/File:Apollo_dan_Pithon.jpg',\n",
       " '/wiki/File:Apollo_dan_Pithon.jpg',\n",
       " '/wiki/Apollo',\n",
       " '/wiki/Virgil_Solis',\n",
       " '/wiki/Ovid',\n",
       " '/wiki/Metamorphoses',\n",
       " '/wiki/Greek_mythology',\n",
       " '/wiki/Greek_language',\n",
       " '/wiki/Genitive_case',\n",
       " '/wiki/Serpent_(symbolism)',\n",
       " '/wiki/Medieval',\n",
       " '/wiki/Dragon',\n",
       " '/wiki/Earth',\n",
       " '/wiki/Delphi',\n",
       " '#Mythology',\n",
       " '#Versions_and_interpretations',\n",
       " '#See_also']"
      ]
     },
     "execution_count": 48,
     "metadata": {},
     "output_type": "execute_result"
    }
   ],
   "source": [
    "links = soup4.find_all('a')\n",
    "print(type(links[1]))\n",
    "def linkssearch(data):\n",
    "    links_list =[]\n",
    "    for link in data:\n",
    "        if \"href\" in str(link):\n",
    "            links_list.append(link[\"href\"])\n",
    "    return links_list\n",
    "\n",
    "linkssearch(links)[:20]"
   ]
  },
  {
   "cell_type": "markdown",
   "metadata": {},
   "source": [
    "#### Number of Titles that have changed in the United States Code since its last release point "
   ]
  },
  {
   "cell_type": "code",
   "execution_count": 14,
   "metadata": {},
   "outputs": [],
   "source": [
    "# This is the url you will scrape in this exercise\n",
    "url = 'http://uscode.house.gov/download/download.shtml'"
   ]
  },
  {
   "cell_type": "code",
   "execution_count": 15,
   "metadata": {},
   "outputs": [],
   "source": [
    "#your code\n",
    "response5 = requests.get(url)\n",
    "soup5 = BeautifulSoup(response5.text, 'html.parser')"
   ]
  },
  {
   "cell_type": "code",
   "execution_count": 16,
   "metadata": {},
   "outputs": [
    {
     "name": "stdout",
     "output_type": "stream",
     "text": [
      "['Title 34 - Crime Control and Law Enforcement', 'Title 42 - The Public Health and Welfare', 'Title 50 - War and National Defense']\n"
     ]
    }
   ],
   "source": [
    "documents = soup5.select(\".usctitlechanged\")\n",
    "\n",
    "def docsearch(data):\n",
    "    doc_list =[]\n",
    "    for doc in data:\n",
    "        if \"Title\" in str(doc):\n",
    "            doc_list.append(doc.text.replace(\"\\n\",\"\").strip())\n",
    "    return doc_list\n",
    "\n",
    "print(docsearch(documents))"
   ]
  },
  {
   "cell_type": "markdown",
   "metadata": {},
   "source": [
    "#### A Python list with the top ten FBI's Most Wanted names "
   ]
  },
  {
   "cell_type": "code",
   "execution_count": 17,
   "metadata": {},
   "outputs": [],
   "source": [
    "# This is the url you will scrape in this exercise\n",
    "url = 'https://www.fbi.gov/wanted/topten'"
   ]
  },
  {
   "cell_type": "code",
   "execution_count": 18,
   "metadata": {},
   "outputs": [],
   "source": [
    "#your code \n",
    "response6 = requests.get(url)\n",
    "soup6 = BeautifulSoup(response6.text, 'html.parser')"
   ]
  },
  {
   "cell_type": "code",
   "execution_count": 19,
   "metadata": {},
   "outputs": [
    {
     "data": {
      "text/plain": [
       "['ARNOLDO JIMENEZ',\n",
       " 'JASON DEREK BROWN',\n",
       " 'YASER ABDEL SAID',\n",
       " 'ALEXIS FLORES',\n",
       " 'EUGENE PALMER',\n",
       " 'RAFAEL CARO-QUINTERO',\n",
       " 'ROBERT WILLIAM FISHER',\n",
       " 'BHADRESHKUMAR CHETANBHAI PATEL',\n",
       " 'ALEJANDRO ROSALES CASTILLO',\n",
       " 'SANTIAGO VILLALBA MEDEROS']"
      ]
     },
     "execution_count": 19,
     "metadata": {},
     "output_type": "execute_result"
    }
   ],
   "source": [
    "convicts = soup6.select(\"li h3:only-of-type\")\n",
    "\n",
    "def getconvicts(data):\n",
    "    con_list =[]\n",
    "    for con in data:\n",
    "        con_list.append(con.text.replace(\"\\n\",\"\"))\n",
    "    return con_list\n",
    "\n",
    "getconvicts(convicts)"
   ]
  },
  {
   "cell_type": "markdown",
   "metadata": {},
   "source": [
    "####  20 latest earthquakes info (date, time, latitude, longitude and region name) by the EMSC as a pandas dataframe"
   ]
  },
  {
   "cell_type": "code",
   "execution_count": 20,
   "metadata": {},
   "outputs": [],
   "source": [
    "# This is the url you will scrape in this exercise\n",
    "url = 'https://www.emsc-csem.org/Earthquake/'"
   ]
  },
  {
   "cell_type": "code",
   "execution_count": 21,
   "metadata": {},
   "outputs": [],
   "source": [
    "#your code\n",
    "response7 = requests.get(url)\n",
    "soup7 = BeautifulSoup(response7.text, 'html.parser')"
   ]
  },
  {
   "cell_type": "code",
   "execution_count": 60,
   "metadata": {},
   "outputs": [
    {
     "data": {
      "text/html": [
       "<div>\n",
       "<style scoped>\n",
       "    .dataframe tbody tr th:only-of-type {\n",
       "        vertical-align: middle;\n",
       "    }\n",
       "\n",
       "    .dataframe tbody tr th {\n",
       "        vertical-align: top;\n",
       "    }\n",
       "\n",
       "    .dataframe thead th {\n",
       "        text-align: right;\n",
       "    }\n",
       "</style>\n",
       "<table border=\"1\" class=\"dataframe\">\n",
       "  <thead>\n",
       "    <tr style=\"text-align: right;\">\n",
       "      <th></th>\n",
       "      <th>date</th>\n",
       "      <th>time</th>\n",
       "      <th>latitude</th>\n",
       "      <th>longitude</th>\n",
       "      <th>region name</th>\n",
       "    </tr>\n",
       "  </thead>\n",
       "  <tbody>\n",
       "    <tr>\n",
       "      <th>0</th>\n",
       "      <td>2020-09-10</td>\n",
       "      <td>06:21:51</td>\n",
       "      <td>33.49</td>\n",
       "      <td>116.80</td>\n",
       "      <td>SOUTHERN</td>\n",
       "    </tr>\n",
       "    <tr>\n",
       "      <th>1</th>\n",
       "      <td>2020-09-10</td>\n",
       "      <td>06:14:16</td>\n",
       "      <td>0.81</td>\n",
       "      <td>98.70</td>\n",
       "      <td>NIAS</td>\n",
       "    </tr>\n",
       "    <tr>\n",
       "      <th>2</th>\n",
       "      <td>2020-09-10</td>\n",
       "      <td>06:12:18</td>\n",
       "      <td>40.50</td>\n",
       "      <td>20.87</td>\n",
       "      <td>ALBANIA</td>\n",
       "    </tr>\n",
       "    <tr>\n",
       "      <th>3</th>\n",
       "      <td>2020-09-10</td>\n",
       "      <td>06:11:05</td>\n",
       "      <td>50.09</td>\n",
       "      <td>18.43</td>\n",
       "      <td>POLAND</td>\n",
       "    </tr>\n",
       "    <tr>\n",
       "      <th>4</th>\n",
       "      <td>2020-09-10</td>\n",
       "      <td>06:06:18</td>\n",
       "      <td>33.02</td>\n",
       "      <td>73.63</td>\n",
       "      <td>PAKISTAN</td>\n",
       "    </tr>\n",
       "    <tr>\n",
       "      <th>5</th>\n",
       "      <td>2020-09-10</td>\n",
       "      <td>05:04:45</td>\n",
       "      <td>17.95</td>\n",
       "      <td>67.02</td>\n",
       "      <td>PUERTO</td>\n",
       "    </tr>\n",
       "    <tr>\n",
       "      <th>6</th>\n",
       "      <td>2020-09-10</td>\n",
       "      <td>05:00:38</td>\n",
       "      <td>30.39</td>\n",
       "      <td>71.52</td>\n",
       "      <td>COQUIMBO</td>\n",
       "    </tr>\n",
       "    <tr>\n",
       "      <th>7</th>\n",
       "      <td>2020-09-10</td>\n",
       "      <td>05:00:12</td>\n",
       "      <td>41.58</td>\n",
       "      <td>19.46</td>\n",
       "      <td>ADRIATIC</td>\n",
       "    </tr>\n",
       "    <tr>\n",
       "      <th>8</th>\n",
       "      <td>2020-09-10</td>\n",
       "      <td>04:56:07</td>\n",
       "      <td>17.97</td>\n",
       "      <td>67.01</td>\n",
       "      <td>PUERTO</td>\n",
       "    </tr>\n",
       "    <tr>\n",
       "      <th>9</th>\n",
       "      <td>2020-09-10</td>\n",
       "      <td>04:40:13</td>\n",
       "      <td>45.87</td>\n",
       "      <td>6.98</td>\n",
       "      <td>FRANCE</td>\n",
       "    </tr>\n",
       "    <tr>\n",
       "      <th>10</th>\n",
       "      <td>2020-09-10</td>\n",
       "      <td>04:23:46</td>\n",
       "      <td>19.23</td>\n",
       "      <td>155.41</td>\n",
       "      <td>ISLAND</td>\n",
       "    </tr>\n",
       "    <tr>\n",
       "      <th>11</th>\n",
       "      <td>2020-09-10</td>\n",
       "      <td>04:08:30</td>\n",
       "      <td>0.29</td>\n",
       "      <td>100.03</td>\n",
       "      <td>SOUTHERN</td>\n",
       "    </tr>\n",
       "    <tr>\n",
       "      <th>12</th>\n",
       "      <td>2020-09-10</td>\n",
       "      <td>04:04:42</td>\n",
       "      <td>36.41</td>\n",
       "      <td>28.68</td>\n",
       "      <td>DODECANESE</td>\n",
       "    </tr>\n",
       "    <tr>\n",
       "      <th>13</th>\n",
       "      <td>2020-09-10</td>\n",
       "      <td>04:04:15</td>\n",
       "      <td>37.72</td>\n",
       "      <td>4.38</td>\n",
       "      <td>SPAIN</td>\n",
       "    </tr>\n",
       "    <tr>\n",
       "      <th>14</th>\n",
       "      <td>2020-09-10</td>\n",
       "      <td>04:00:57</td>\n",
       "      <td>39.36</td>\n",
       "      <td>123.25</td>\n",
       "      <td>NORTHERN</td>\n",
       "    </tr>\n",
       "    <tr>\n",
       "      <th>15</th>\n",
       "      <td>2020-09-10</td>\n",
       "      <td>03:58:31</td>\n",
       "      <td>7.63</td>\n",
       "      <td>126.87</td>\n",
       "      <td>KEPULAUAN</td>\n",
       "    </tr>\n",
       "    <tr>\n",
       "      <th>16</th>\n",
       "      <td>2020-09-10</td>\n",
       "      <td>03:49:33</td>\n",
       "      <td>7.33</td>\n",
       "      <td>125.15</td>\n",
       "      <td>KEPULAUAN</td>\n",
       "    </tr>\n",
       "    <tr>\n",
       "      <th>17</th>\n",
       "      <td>2020-09-10</td>\n",
       "      <td>03:48:29</td>\n",
       "      <td>17.97</td>\n",
       "      <td>67.01</td>\n",
       "      <td>PUERTO</td>\n",
       "    </tr>\n",
       "    <tr>\n",
       "      <th>18</th>\n",
       "      <td>2020-09-10</td>\n",
       "      <td>03:47:13</td>\n",
       "      <td>20.26</td>\n",
       "      <td>155.56</td>\n",
       "      <td>HAWAII</td>\n",
       "    </tr>\n",
       "    <tr>\n",
       "      <th>19</th>\n",
       "      <td>2020-09-10</td>\n",
       "      <td>03:34:20</td>\n",
       "      <td>35.62</td>\n",
       "      <td>71.40</td>\n",
       "      <td>MAULE</td>\n",
       "    </tr>\n",
       "  </tbody>\n",
       "</table>\n",
       "</div>"
      ],
      "text/plain": [
       "          date      time latitude longitude region name\n",
       "0   2020-09-10  06:21:51    33.49    116.80    SOUTHERN\n",
       "1   2020-09-10  06:14:16     0.81     98.70        NIAS\n",
       "2   2020-09-10  06:12:18    40.50     20.87     ALBANIA\n",
       "3   2020-09-10  06:11:05    50.09     18.43      POLAND\n",
       "4   2020-09-10  06:06:18    33.02     73.63    PAKISTAN\n",
       "5   2020-09-10  05:04:45    17.95     67.02      PUERTO\n",
       "6   2020-09-10  05:00:38    30.39     71.52    COQUIMBO\n",
       "7   2020-09-10  05:00:12    41.58     19.46    ADRIATIC\n",
       "8   2020-09-10  04:56:07    17.97     67.01      PUERTO\n",
       "9   2020-09-10  04:40:13    45.87      6.98      FRANCE\n",
       "10  2020-09-10  04:23:46    19.23    155.41      ISLAND\n",
       "11  2020-09-10  04:08:30     0.29    100.03    SOUTHERN\n",
       "12  2020-09-10  04:04:42    36.41     28.68  DODECANESE\n",
       "13  2020-09-10  04:04:15    37.72      4.38       SPAIN\n",
       "14  2020-09-10  04:00:57    39.36    123.25    NORTHERN\n",
       "15  2020-09-10  03:58:31     7.63    126.87   KEPULAUAN\n",
       "16  2020-09-10  03:49:33     7.33    125.15   KEPULAUAN\n",
       "17  2020-09-10  03:48:29    17.97     67.01      PUERTO\n",
       "18  2020-09-10  03:47:13    20.26    155.56      HAWAII\n",
       "19  2020-09-10  03:34:20    35.62     71.40       MAULE"
      ]
     },
     "execution_count": 60,
     "metadata": {},
     "output_type": "execute_result"
    }
   ],
   "source": [
    "\n",
    "data_raw = soup7.select(\"tbody > tr\")\n",
    "#print(data_raw)\n",
    "def earthdata(data):\n",
    "    #print(len(data), end=\"\\n\\n\")\n",
    "    if len(data) == 13:\n",
    "        date = re.search(r'\\d{4}-\\d{2}-\\d{2}',str(data.find_all(\"td\", class_=\"tabev6\")[0]))\n",
    "        time = re.search(r'\\d{2}:\\d{2}:\\d{2}',str(data.find_all(\"td\", class_=\"tabev6\")[0]))\n",
    "        lat_long = data.find_all(\"td\", class_=\"tabev1\")\n",
    "        latitude = re.search(r'\\d{1,2}\\.\\d{2}',str(lat_long[0]))\n",
    "        longitude = re.search(r'\\d{1,3}\\.\\d{2}',str(lat_long[1]))\n",
    "        reg = re.search(r'>\\s\\w*',str(data.find_all(\"td\", class_=\"tb_region\")))\n",
    "        return {\n",
    "            \"date\": date[0],\n",
    "            \"time\": time[0],\n",
    "            \"latitude\": latitude[0],\n",
    "            \"longitude\": longitude[0],\n",
    "            \"region name\":reg[0].replace(\">\\xa0\",\"\")\n",
    "        }   \n",
    "    else:\n",
    "        pass\n",
    "data = [earthdata(tag) for tag in soup7.select(\"tbody > tr\")]\n",
    "data = list(filter(lambda e: e, data))\n",
    "df = pd.DataFrame(data)\n",
    "df.head(20)\n",
    "    \n",
    "    \n",
    "    "
   ]
  },
  {
   "cell_type": "markdown",
   "metadata": {},
   "source": [
    "#### Display the date, days, title, city, country of next 25 hackathon events as a Pandas dataframe table"
   ]
  },
  {
   "cell_type": "code",
   "execution_count": null,
   "metadata": {},
   "outputs": [],
   "source": [
    "# This is the url you will scrape in this exercise\n",
    "url ='https://hackevents.co/hackathons'"
   ]
  },
  {
   "cell_type": "code",
   "execution_count": null,
   "metadata": {},
   "outputs": [],
   "source": [
    "#your code"
   ]
  },
  {
   "cell_type": "markdown",
   "metadata": {},
   "source": [
    "### no me carga la pagina y no puedo hacerlo"
   ]
  },
  {
   "cell_type": "markdown",
   "metadata": {},
   "source": [
    "#### Count number of tweets by a given Twitter account."
   ]
  },
  {
   "cell_type": "markdown",
   "metadata": {},
   "source": [
    "You will need to include a ***try/except block*** for account names not found. \n",
    "<br>***Hint:*** the program should count the number of tweets for any provided account"
   ]
  },
  {
   "cell_type": "code",
   "execution_count": 61,
   "metadata": {},
   "outputs": [],
   "source": [
    "# This is the url you will scrape in this exercise \n",
    "# You will need to add the account credentials to this url\n",
    "url1 = 'https://twitter.com/'\n",
    "user = 'IbaiLlanos'"
   ]
  },
  {
   "cell_type": "code",
   "execution_count": 62,
   "metadata": {},
   "outputs": [
    {
     "data": {
      "text/plain": [
       "<Response [200]>"
      ]
     },
     "execution_count": 62,
     "metadata": {},
     "output_type": "execute_result"
    }
   ],
   "source": [
    "#your code\n",
    "response8 = requests.get(\"https://mobile.twitter.com/IbaiLlanos\")\n",
    "soup8 = BeautifulSoup(response8.text, 'html.parser')\n",
    "response8"
   ]
  },
  {
   "cell_type": "code",
   "execution_count": null,
   "metadata": {},
   "outputs": [],
   "source": []
  },
  {
   "cell_type": "code",
   "execution_count": 63,
   "metadata": {},
   "outputs": [
    {
     "data": {
      "text/plain": [
       "[]"
      ]
     },
     "execution_count": 63,
     "metadata": {},
     "output_type": "execute_result"
    }
   ],
   "source": [
    "soup8.find_all('div',class_=\"css-901oao css-bfa6kz r-1re7ezh r-1qd0xha r-n6v787 r-16dba41 r-1sf4r6n r-bcqeeo r-qvutc0\")\n"
   ]
  },
  {
   "cell_type": "code",
   "execution_count": null,
   "metadata": {},
   "outputs": [],
   "source": [
    "### no consigo sacarlo de ninguna manera"
   ]
  },
  {
   "cell_type": "markdown",
   "metadata": {},
   "source": [
    "#### Number of followers of a given twitter account"
   ]
  },
  {
   "cell_type": "markdown",
   "metadata": {},
   "source": [
    "You will need to include a ***try/except block*** in case account/s name not found. \n",
    "<br>***Hint:*** the program should count the followers for any provided account"
   ]
  },
  {
   "cell_type": "code",
   "execution_count": null,
   "metadata": {},
   "outputs": [],
   "source": [
    "# This is the url you will scrape in this exercise \n",
    "# You will need to add the account credentials to this url\n",
    "url = 'https://mobile.twitter.com/'"
   ]
  },
  {
   "cell_type": "code",
   "execution_count": null,
   "metadata": {},
   "outputs": [],
   "source": [
    "#your code\n"
   ]
  },
  {
   "cell_type": "markdown",
   "metadata": {},
   "source": [
    "#### List all language names and number of related articles in the order they appear in wikipedia.org"
   ]
  },
  {
   "cell_type": "code",
   "execution_count": 28,
   "metadata": {},
   "outputs": [],
   "source": [
    "# This is the url you will scrape in this exercise\n",
    "url = 'https://www.wikipedia.org/'"
   ]
  },
  {
   "cell_type": "code",
   "execution_count": 29,
   "metadata": {},
   "outputs": [],
   "source": [
    "#your code\n",
    "response9 = requests.get(url)\n",
    "soup9 = BeautifulSoup(response9.text, 'html.parser')"
   ]
  },
  {
   "cell_type": "code",
   "execution_count": 30,
   "metadata": {},
   "outputs": [
    {
     "data": {
      "text/plain": [
       "['  English 6146000+ articles  ',\n",
       " '  æ\\x97¥æ\\x9c¬èª\\x9e 1224000+ è¨\\x98äº\\x8b  ',\n",
       " '  EspaÃ±ol 1620000+ artÃ\\xadculos  ',\n",
       " '  Deutsch 2472000+ Artikel  ',\n",
       " '  FranÃ§ais 2244000+ articles  ',\n",
       " '  ÐÑ\\x83Ñ\\x81Ñ\\x81ÐºÐ¸Ð¹ 1654000+ Ñ\\x81Ñ\\x82Ð°Ñ\\x82ÐµÐ¹  ',\n",
       " '  Italiano 1630000+ voci  ',\n",
       " '  ä¸\\xadæ\\x96\\x87 1140000+ æ¢\\x9dç\\x9b®  ',\n",
       " '  PortuguÃªs 1042000+ artigos  ',\n",
       " '  Polski 1424000+ haseÅ\\x82  ']"
      ]
     },
     "execution_count": 30,
     "metadata": {},
     "output_type": "execute_result"
    }
   ],
   "source": [
    "lang = soup9.select(\".central-featured-lang\")\n",
    "\n",
    "languages =[item.text.replace(\"\\n\",\" \").replace(\"\\xa0\", \"\") for item in lang]\n",
    "\n",
    "languages\n"
   ]
  },
  {
   "cell_type": "markdown",
   "metadata": {},
   "source": [
    "#### A list with the different kind of datasets available in data.gov.uk "
   ]
  },
  {
   "cell_type": "code",
   "execution_count": 31,
   "metadata": {},
   "outputs": [],
   "source": [
    "# This is the url you will scrape in this exercise\n",
    "url = 'https://data.gov.uk/'"
   ]
  },
  {
   "cell_type": "code",
   "execution_count": 32,
   "metadata": {},
   "outputs": [],
   "source": [
    "#your code \n",
    "response10 = requests.get(url)\n",
    "soup10 = BeautifulSoup(response10.text, 'html.parser')"
   ]
  },
  {
   "cell_type": "code",
   "execution_count": 33,
   "metadata": {},
   "outputs": [
    {
     "data": {
      "text/plain": [
       "['Business and economy',\n",
       " 'Crime and justice',\n",
       " 'Defence',\n",
       " 'Education',\n",
       " 'Environment',\n",
       " 'Government',\n",
       " 'Government spending',\n",
       " 'Health',\n",
       " 'Mapping',\n",
       " 'Society',\n",
       " 'Towns and cities',\n",
       " 'Transport']"
      ]
     },
     "execution_count": 33,
     "metadata": {},
     "output_type": "execute_result"
    }
   ],
   "source": [
    "top = soup10.find_all(\"h3\",class_=\"govuk-heading-s dgu-topics__heading\")\n",
    "\n",
    "topics = [x.text for x in top]\n",
    "\n",
    "topics\n"
   ]
  },
  {
   "cell_type": "markdown",
   "metadata": {},
   "source": [
    "#### Top 10 languages by number of native speakers stored in a Pandas Dataframe"
   ]
  },
  {
   "cell_type": "code",
   "execution_count": 99,
   "metadata": {},
   "outputs": [],
   "source": [
    "# This is the url you will scrape in this exercise\n",
    "url = 'https://en.wikipedia.org/wiki/List_of_languages_by_number_of_native_speakers'"
   ]
  },
  {
   "cell_type": "code",
   "execution_count": 100,
   "metadata": {},
   "outputs": [
    {
     "name": "stdout",
     "output_type": "stream",
     "text": [
      "<class 'bs4.BeautifulSoup'>\n"
     ]
    }
   ],
   "source": [
    "#your code\n",
    "response11 = requests.get(url)\n",
    "soup11 = BeautifulSoup(response11.text, 'html.parser')\n",
    "\n",
    "print(type(soup11))"
   ]
  },
  {
   "cell_type": "code",
   "execution_count": 128,
   "metadata": {},
   "outputs": [
    {
     "name": "stdout",
     "output_type": "stream",
     "text": [
      "[<a href=\"/wiki/Sino-Tibetan_languages\" title=\"Sino-Tibetan languages\">Sino-Tibetan</a>]\n",
      "\n",
      "[<a href=\"/wiki/Indo-European_languages\" title=\"Indo-European languages\">Indo-European</a>]\n",
      "\n",
      "[<a href=\"/wiki/Indo-European_languages\" title=\"Indo-European languages\">Indo-European</a>]\n",
      "\n",
      "[<a href=\"/wiki/Indo-European_languages\" title=\"Indo-European languages\">Indo-European</a>]\n",
      "\n",
      "[<a href=\"/wiki/Indo-European_languages\" title=\"Indo-European languages\">Indo-European</a>]\n",
      "\n",
      "[<a href=\"/wiki/Indo-European_languages\" title=\"Indo-European languages\">Indo-European</a>]\n",
      "\n",
      "[<a href=\"/wiki/Indo-European_languages\" title=\"Indo-European languages\">Indo-European</a>]\n",
      "\n",
      "[<a href=\"/wiki/Japonic_languages\" title=\"Japonic languages\">Japonic</a>]\n",
      "\n",
      "[<a href=\"/wiki/Indo-European_languages\" title=\"Indo-European languages\">Indo-European</a>]\n",
      "\n",
      "[<a href=\"/wiki/Indo-European_languages\" title=\"Indo-European languages\">Indo-European</a>]\n",
      "\n",
      "[<a href=\"/wiki/Dravidian_languages\" title=\"Dravidian languages\">Dravidian</a>]\n",
      "\n",
      "[<a href=\"/wiki/Sino-Tibetan_languages\" title=\"Sino-Tibetan languages\">Sino-Tibetan</a>]\n",
      "\n",
      "[<a href=\"/wiki/Turkic_languages\" title=\"Turkic languages\">Turkic</a>]\n",
      "\n",
      "[<a href=\"/wiki/Koreanic_languages\" title=\"Koreanic languages\">Koreanic</a>]\n",
      "\n",
      "[<a href=\"/wiki/Indo-European_languages\" title=\"Indo-European languages\">Indo-European</a>]\n",
      "\n",
      "[<a href=\"/wiki/Indo-European_languages\" title=\"Indo-European languages\">Indo-European</a>]\n",
      "\n",
      "[<a href=\"/wiki/Austroasiatic_languages\" title=\"Austroasiatic languages\">Austroasiatic</a>]\n",
      "\n",
      "[<a href=\"/wiki/Dravidian_languages\" title=\"Dravidian languages\">Dravidian</a>]\n",
      "\n",
      "[<a href=\"/wiki/Sino-Tibetan_languages\" title=\"Sino-Tibetan languages\">Sino-Tibetan</a>]\n",
      "\n",
      "[<a href=\"/wiki/Indo-European_languages\" title=\"Indo-European languages\">Indo-European</a>]\n",
      "\n",
      "[<a href=\"/wiki/Austronesian_languages\" title=\"Austronesian languages\">Austronesian</a>]\n",
      "\n",
      "[<a href=\"/wiki/Indo-European_languages\" title=\"Indo-European languages\">Indo-European</a>]\n",
      "\n",
      "[<a href=\"/wiki/Afroasiatic_languages\" title=\"Afroasiatic languages\">Afroasiatic</a>]\n",
      "\n",
      "[<a href=\"/wiki/Indo-European_languages\" title=\"Indo-European languages\">Indo-European</a>]\n",
      "\n",
      "[<a href=\"/wiki/Indo-European_languages\" title=\"Indo-European languages\">Indo-European</a>]\n",
      "\n",
      "[<a href=\"/wiki/Indo-European_languages\" title=\"Indo-European languages\">Indo-European</a>]\n",
      "\n",
      "[<a href=\"/wiki/Sino-Tibetan_languages\" title=\"Sino-Tibetan languages\">Sino-Tibetan</a>]\n",
      "\n",
      "[<a href=\"/wiki/Sino-Tibetan_languages\" title=\"Sino-Tibetan languages\">Sino-Tibetan</a>]\n",
      "\n",
      "[<a href=\"/wiki/Sino-Tibetan_languages\" title=\"Sino-Tibetan languages\">Sino-Tibetan</a>]\n",
      "\n",
      "[<a href=\"/wiki/Afroasiatic_languages\" title=\"Afroasiatic languages\">Afroasiatic</a>]\n",
      "\n",
      "[<a href=\"/wiki/Dravidian_languages\" title=\"Dravidian languages\">Dravidian</a>]\n",
      "\n",
      "[<a href=\"/wiki/Austronesian_languages\" title=\"Austronesian languages\">Austronesian</a>]\n",
      "\n",
      "[<a href=\"/wiki/Indo-European_languages\" title=\"Indo-European languages\">Indo-European</a>]\n",
      "\n",
      "[<a href=\"/wiki/Niger%E2%80%93Congo_languages\" title=\"Niger–Congo languages\">Niger–Congo</a>]\n",
      "\n",
      "[<a href=\"/wiki/Sino-Tibetan_languages\" title=\"Sino-Tibetan languages\">Sino-Tibetan</a>]\n",
      "\n",
      "[<a href=\"/wiki/Dravidian_languages\" title=\"Dravidian languages\">Dravidian</a>]\n",
      "\n",
      "[<a href=\"/wiki/Indo-European_languages\" title=\"Indo-European languages\">Indo-European</a>]\n",
      "\n",
      "[<a href=\"/wiki/Indo-European_languages\" title=\"Indo-European languages\">Indo-European</a>]\n",
      "\n",
      "[<a href=\"/wiki/Sino-Tibetan_languages\" title=\"Sino-Tibetan languages\">Sino-Tibetan</a>]\n",
      "\n",
      "[<a href=\"/wiki/Indo-European_languages\" title=\"Indo-European languages\">Indo-European</a>]\n",
      "\n",
      "[<a href=\"/wiki/Austronesian_languages\" title=\"Austronesian languages\">Austronesian</a>]\n",
      "\n",
      "[<a href=\"/wiki/Afroasiatic_languages\" title=\"Afroasiatic languages\">Afroasiatic</a>]\n",
      "\n",
      "[<a href=\"/wiki/Afroasiatic_languages\" title=\"Afroasiatic languages\">Afroasiatic</a>]\n",
      "\n",
      "[<a href=\"/wiki/Afroasiatic_languages\" title=\"Afroasiatic languages\">Afroasiatic</a>]\n",
      "\n",
      "[<a href=\"/wiki/Indo-European_languages\" title=\"Indo-European languages\">Indo-European</a>]\n",
      "\n",
      "[<a href=\"/wiki/Niger%E2%80%93Congo_languages\" title=\"Niger–Congo languages\">Niger–Congo</a>]\n",
      "\n",
      "[<a href=\"/wiki/Turkic_languages\" title=\"Turkic languages\">Turkic</a>]\n",
      "\n",
      "[<a href=\"/wiki/Indo-European_languages\" title=\"Indo-European languages\">Indo-European</a>]\n",
      "\n",
      "[<a href=\"/wiki/Afroasiatic_languages\" title=\"Afroasiatic languages\">Afroasiatic</a>]\n",
      "\n",
      "[<a href=\"/wiki/Indo-European_languages\" title=\"Indo-European languages\">Indo-European</a>]\n",
      "\n",
      "[<a href=\"/wiki/Austronesian_languages\" title=\"Austronesian languages\">Austronesian</a>]\n",
      "\n",
      "[<a href=\"/wiki/Indo-European_languages\" title=\"Indo-European languages\">Indo-European</a>]\n",
      "\n",
      "[<a href=\"/wiki/Afroasiatic_languages\" title=\"Afroasiatic languages\">Afroasiatic</a>]\n",
      "\n",
      "[<a href=\"/wiki/Sino-Tibetan_languages\" title=\"Sino-Tibetan languages\">Sino-Tibetan</a>]\n",
      "\n",
      "[<a href=\"/wiki/Afroasiatic_languages\" title=\"Afroasiatic languages\">Afroasiatic</a>]\n",
      "\n",
      "[<a href=\"/wiki/Indo-European_languages\" title=\"Indo-European languages\">Indo-European</a>]\n",
      "\n",
      "[<a href=\"/wiki/Indo-European_languages\" title=\"Indo-European languages\">Indo-European</a>]\n",
      "\n",
      "[<a href=\"/wiki/Kra%E2%80%93Dai_languages\" title=\"Kra–Dai languages\">Kra–Dai</a>]\n",
      "\n",
      "[<a href=\"/wiki/Indo-European_languages\" title=\"Indo-European languages\">Indo-European</a>]\n",
      "\n",
      "[<a href=\"/wiki/Austroasiatic_languages\" title=\"Austroasiatic languages\">Austroasiatic</a>]\n",
      "\n",
      "[<a href=\"/wiki/Indo-European_languages\" title=\"Indo-European languages\">Indo-European</a>]\n",
      "\n",
      "[<a href=\"/wiki/Afroasiatic_languages\" title=\"Afroasiatic languages\">Afroasiatic</a>]\n",
      "\n",
      "[<a href=\"/wiki/Austronesian_languages\" title=\"Austronesian languages\">Austronesian</a>]\n",
      "\n",
      "[<a href=\"/wiki/Austronesian_languages\" title=\"Austronesian languages\">Austronesian</a>]\n",
      "\n",
      "[<a href=\"/wiki/Indo-European_languages\" title=\"Indo-European languages\">Indo-European</a>]\n",
      "\n",
      "[<a href=\"/wiki/Afroasiatic_languages\" title=\"Afroasiatic languages\">Afroasiatic</a>]\n",
      "\n",
      "[<a href=\"/wiki/Indo-European_languages\" title=\"Indo-European languages\">Indo-European</a>]\n",
      "\n",
      "[<a href=\"/wiki/Indo-European_languages\" title=\"Indo-European languages\">Indo-European</a>]\n",
      "\n",
      "[<a href=\"/wiki/Indo-European_languages\" title=\"Indo-European languages\">Indo-European</a>]\n",
      "\n",
      "[<a href=\"/wiki/Afroasiatic_languages\" title=\"Afroasiatic languages\">Afroasiatic</a>]\n",
      "\n",
      "[<a href=\"/wiki/Niger%E2%80%93Congo_languages\" title=\"Niger–Congo languages\">Niger–Congo</a>]\n",
      "\n",
      "[<a href=\"/wiki/Indo-European_languages\" title=\"Indo-European languages\">Indo-European</a>]\n",
      "\n",
      "[<a href=\"/wiki/Turkic_languages\" title=\"Turkic languages\">Turkic</a>]\n",
      "\n",
      "[<a href=\"/wiki/Indo-European_languages\" title=\"Indo-European languages\">Indo-European</a>]\n",
      "\n",
      "[<a href=\"/wiki/Indo-European_languages\" title=\"Indo-European languages\">Indo-European</a>]\n",
      "\n",
      "[<a href=\"/wiki/Turkic_languages\" title=\"Turkic languages\">Turkic</a>]\n",
      "\n",
      "[<a href=\"/wiki/Indo-European_languages\" title=\"Indo-European languages\">Indo-European</a>]\n",
      "\n",
      "[<a href=\"/wiki/Uralic_languages\" title=\"Uralic languages\">Uralic</a>]\n",
      "\n",
      "[<a href=\"/wiki/Niger%E2%80%93Congo_languages\" title=\"Niger–Congo languages\">Niger–Congo</a>]\n",
      "\n",
      "[<a href=\"/wiki/Niger%E2%80%93Congo_languages\" title=\"Niger–Congo languages\">Niger–Congo</a>]\n",
      "\n",
      "[<a href=\"/wiki/Afroasiatic_languages\" title=\"Afroasiatic languages\">Afroasiatic</a>]\n",
      "\n",
      "[<a href=\"/wiki/Afroasiatic_languages\" title=\"Afroasiatic languages\">Afroasiatic</a>]\n",
      "\n",
      "[<a href=\"/wiki/Afroasiatic_languages\" title=\"Afroasiatic languages\">Afroasiatic</a>]\n",
      "\n",
      "[<a href=\"/wiki/Sino-Tibetan_languages\" title=\"Sino-Tibetan languages\">Sino-Tibetan</a>]\n",
      "\n",
      "[<a href=\"/wiki/Indo-European_languages\" title=\"Indo-European languages\">Indo-European</a>]\n",
      "\n",
      "[<a href=\"/wiki/Niger%E2%80%93Congo_languages\" title=\"Niger–Congo languages\">Niger–Congo</a>]\n",
      "\n",
      "[<a href=\"/wiki/Indo-European_languages\" title=\"Indo-European languages\">Indo-European</a>]\n",
      "\n",
      "[<a href=\"/wiki/Afroasiatic_languages\" title=\"Afroasiatic languages\">Afroasiatic</a>]\n",
      "\n",
      "[<a href=\"/wiki/Turkic_languages\" title=\"Turkic languages\">Turkic</a>]\n",
      "\n",
      "[<a href=\"/wiki/Sino-Tibetan_languages\" title=\"Sino-Tibetan languages\">Sino-Tibetan</a>]\n",
      "\n",
      "[<a href=\"/wiki/Indo-European_languages\" title=\"Indo-European languages\">Indo-European</a>]\n",
      "\n"
     ]
    },
    {
     "data": {
      "text/html": [
       "<div>\n",
       "<style scoped>\n",
       "    .dataframe tbody tr th:only-of-type {\n",
       "        vertical-align: middle;\n",
       "    }\n",
       "\n",
       "    .dataframe tbody tr th {\n",
       "        vertical-align: top;\n",
       "    }\n",
       "\n",
       "    .dataframe thead th {\n",
       "        text-align: right;\n",
       "    }\n",
       "</style>\n",
       "<table border=\"1\" class=\"dataframe\">\n",
       "  <thead>\n",
       "    <tr style=\"text-align: right;\">\n",
       "      <th></th>\n",
       "      <th>language</th>\n",
       "      <th>speakers</th>\n",
       "      <th>pop porcent</th>\n",
       "      <th>lang fam</th>\n",
       "    </tr>\n",
       "  </thead>\n",
       "  <tbody>\n",
       "    <tr>\n",
       "      <th>0</th>\n",
       "      <td>Mandarin Chinese</td>\n",
       "      <td>[918\\n]</td>\n",
       "      <td>[11.922\\n]</td>\n",
       "      <td>[[Sino-Tibetan], \\n]</td>\n",
       "    </tr>\n",
       "    <tr>\n",
       "      <th>1</th>\n",
       "      <td>Spanish language</td>\n",
       "      <td>[480\\n]</td>\n",
       "      <td>[5.994\\n]</td>\n",
       "      <td>[[Indo-European], \\n]</td>\n",
       "    </tr>\n",
       "    <tr>\n",
       "      <th>2</th>\n",
       "      <td>English language</td>\n",
       "      <td>[379\\n]</td>\n",
       "      <td>[4.922\\n]</td>\n",
       "      <td>[[Indo-European], \\n]</td>\n",
       "    </tr>\n",
       "    <tr>\n",
       "      <th>3</th>\n",
       "      <td>Hindi</td>\n",
       "      <td>[341\\n]</td>\n",
       "      <td>[4.429\\n]</td>\n",
       "      <td>[[Indo-European], \\n]</td>\n",
       "    </tr>\n",
       "    <tr>\n",
       "      <th>4</th>\n",
       "      <td>Bengali language</td>\n",
       "      <td>[228\\n]</td>\n",
       "      <td>[2.961\\n]</td>\n",
       "      <td>[[Indo-European], \\n]</td>\n",
       "    </tr>\n",
       "    <tr>\n",
       "      <th>5</th>\n",
       "      <td>Portuguese language</td>\n",
       "      <td>[221\\n]</td>\n",
       "      <td>[2.870\\n]</td>\n",
       "      <td>[[Indo-European], \\n]</td>\n",
       "    </tr>\n",
       "    <tr>\n",
       "      <th>6</th>\n",
       "      <td>Russian language</td>\n",
       "      <td>[154\\n]</td>\n",
       "      <td>[2.000\\n]</td>\n",
       "      <td>[[Indo-European], \\n]</td>\n",
       "    </tr>\n",
       "    <tr>\n",
       "      <th>7</th>\n",
       "      <td>Japanese language</td>\n",
       "      <td>[128\\n]</td>\n",
       "      <td>[1.662\\n]</td>\n",
       "      <td>[[Japonic], \\n]</td>\n",
       "    </tr>\n",
       "    <tr>\n",
       "      <th>8</th>\n",
       "      <td>Punjabi language</td>\n",
       "      <td>[92.7\\n]</td>\n",
       "      <td>[1.204\\n]</td>\n",
       "      <td>[[Indo-European], \\n]</td>\n",
       "    </tr>\n",
       "    <tr>\n",
       "      <th>9</th>\n",
       "      <td>Marathi language</td>\n",
       "      <td>[83.1\\n]</td>\n",
       "      <td>[1.079\\n]</td>\n",
       "      <td>[[Indo-European], \\n]</td>\n",
       "    </tr>\n",
       "    <tr>\n",
       "      <th>10</th>\n",
       "      <td>Telugu language</td>\n",
       "      <td>[82.0\\n]</td>\n",
       "      <td>[1.065\\n]</td>\n",
       "      <td>[[Dravidian], \\n]</td>\n",
       "    </tr>\n",
       "    <tr>\n",
       "      <th>11</th>\n",
       "      <td>Wu Chinese</td>\n",
       "      <td>[81.4\\n]</td>\n",
       "      <td>[1.057\\n]</td>\n",
       "      <td>[[Sino-Tibetan], \\n]</td>\n",
       "    </tr>\n",
       "    <tr>\n",
       "      <th>12</th>\n",
       "      <td>Turkish language</td>\n",
       "      <td>[79.4\\n]</td>\n",
       "      <td>[1.031\\n]</td>\n",
       "      <td>[[Turkic], \\n]</td>\n",
       "    </tr>\n",
       "    <tr>\n",
       "      <th>13</th>\n",
       "      <td>Korean language</td>\n",
       "      <td>[77.3\\n]</td>\n",
       "      <td>[1.004\\n]</td>\n",
       "      <td>[[Koreanic], \\n]</td>\n",
       "    </tr>\n",
       "    <tr>\n",
       "      <th>14</th>\n",
       "      <td>French language</td>\n",
       "      <td>[77.2\\n]</td>\n",
       "      <td>[1.003\\n]</td>\n",
       "      <td>[[Indo-European], \\n]</td>\n",
       "    </tr>\n",
       "    <tr>\n",
       "      <th>15</th>\n",
       "      <td>German language</td>\n",
       "      <td>[76.1\\n]</td>\n",
       "      <td>[0.988\\n]</td>\n",
       "      <td>[[Indo-European], \\n]</td>\n",
       "    </tr>\n",
       "    <tr>\n",
       "      <th>16</th>\n",
       "      <td>Vietnamese language</td>\n",
       "      <td>[76.0\\n]</td>\n",
       "      <td>[0.987\\n]</td>\n",
       "      <td>[[Austroasiatic], \\n]</td>\n",
       "    </tr>\n",
       "    <tr>\n",
       "      <th>17</th>\n",
       "      <td>Tamil language</td>\n",
       "      <td>[75.0\\n]</td>\n",
       "      <td>[0.974\\n]</td>\n",
       "      <td>[[Dravidian], \\n]</td>\n",
       "    </tr>\n",
       "    <tr>\n",
       "      <th>18</th>\n",
       "      <td>Yue Chinese</td>\n",
       "      <td>[73.1\\n]</td>\n",
       "      <td>[0.949\\n]</td>\n",
       "      <td>[[Sino-Tibetan], \\n]</td>\n",
       "    </tr>\n",
       "    <tr>\n",
       "      <th>19</th>\n",
       "      <td>Urdu</td>\n",
       "      <td>[68.6\\n]</td>\n",
       "      <td>[0.891\\n]</td>\n",
       "      <td>[[Indo-European], \\n]</td>\n",
       "    </tr>\n",
       "  </tbody>\n",
       "</table>\n",
       "</div>"
      ],
      "text/plain": [
       "               language  speakers pop porcent               lang fam\n",
       "0      Mandarin Chinese   [918\\n]  [11.922\\n]   [[Sino-Tibetan], \\n]\n",
       "1      Spanish language   [480\\n]   [5.994\\n]  [[Indo-European], \\n]\n",
       "2      English language   [379\\n]   [4.922\\n]  [[Indo-European], \\n]\n",
       "3                 Hindi   [341\\n]   [4.429\\n]  [[Indo-European], \\n]\n",
       "4      Bengali language   [228\\n]   [2.961\\n]  [[Indo-European], \\n]\n",
       "5   Portuguese language   [221\\n]   [2.870\\n]  [[Indo-European], \\n]\n",
       "6      Russian language   [154\\n]   [2.000\\n]  [[Indo-European], \\n]\n",
       "7     Japanese language   [128\\n]   [1.662\\n]        [[Japonic], \\n]\n",
       "8      Punjabi language  [92.7\\n]   [1.204\\n]  [[Indo-European], \\n]\n",
       "9      Marathi language  [83.1\\n]   [1.079\\n]  [[Indo-European], \\n]\n",
       "10      Telugu language  [82.0\\n]   [1.065\\n]      [[Dravidian], \\n]\n",
       "11           Wu Chinese  [81.4\\n]   [1.057\\n]   [[Sino-Tibetan], \\n]\n",
       "12     Turkish language  [79.4\\n]   [1.031\\n]         [[Turkic], \\n]\n",
       "13      Korean language  [77.3\\n]   [1.004\\n]       [[Koreanic], \\n]\n",
       "14      French language  [77.2\\n]   [1.003\\n]  [[Indo-European], \\n]\n",
       "15      German language  [76.1\\n]   [0.988\\n]  [[Indo-European], \\n]\n",
       "16  Vietnamese language  [76.0\\n]   [0.987\\n]  [[Austroasiatic], \\n]\n",
       "17       Tamil language  [75.0\\n]   [0.974\\n]      [[Dravidian], \\n]\n",
       "18          Yue Chinese  [73.1\\n]   [0.949\\n]   [[Sino-Tibetan], \\n]\n",
       "19                 Urdu  [68.6\\n]   [0.891\\n]  [[Indo-European], \\n]"
      ]
     },
     "execution_count": 128,
     "metadata": {},
     "output_type": "execute_result"
    }
   ],
   "source": [
    "\n",
    "\n",
    "def tabledata(file):\n",
    "    if type(file) is not bs4.element.NavigableString:\n",
    "        if len(file.find_all(\"td\")) != 0:\n",
    "            #print(type(file), end=\"\\n\\n\")\n",
    "            print(file.find_all(\"td\")[4].select(\"a\"), end=\"\\n\\n\")\n",
    "            return {\n",
    "                \"language\":file.find_all(\"td\")[1].a[\"title\"],\n",
    "                \"speakers\": file.find_all(\"td\")[2],\n",
    "                \"pop porcent\":file.find_all(\"td\")[3],\n",
    "                \"lang fam\":file.find_all(\"td\")[4]\n",
    "            }\n",
    "        else:\n",
    "            pass\n",
    "    else:\n",
    "        pass\n",
    " \n",
    "\n",
    "\n",
    "data = [tabledata(tag) for tag in soup11.select(\"tbody:first-of-type\")[0]]\n",
    "\n",
    "res = [] \n",
    "for val in data: \n",
    "    if val != None : \n",
    "        res.append(val) \n",
    "#print(res)\n",
    "df = pd.DataFrame(res)\n",
    "df.head(20)\n",
    "    \n",
    "    "
   ]
  },
  {
   "cell_type": "markdown",
   "metadata": {},
   "source": [
    "### BONUS QUESTIONS"
   ]
  },
  {
   "cell_type": "markdown",
   "metadata": {},
   "source": [
    "#### Scrape a certain number of tweets of a given Twitter account."
   ]
  },
  {
   "cell_type": "code",
   "execution_count": null,
   "metadata": {},
   "outputs": [],
   "source": [
    "# This is the url you will scrape in this exercise \n",
    "# You will need to add the account credentials to this url\n",
    "url = 'https://twitter.com/'"
   ]
  },
  {
   "cell_type": "code",
   "execution_count": null,
   "metadata": {},
   "outputs": [],
   "source": [
    "# your code"
   ]
  },
  {
   "cell_type": "markdown",
   "metadata": {},
   "source": [
    "#### IMDB's Top 250 data (movie name, Initial release, director name and stars) as a pandas dataframe"
   ]
  },
  {
   "cell_type": "code",
   "execution_count": null,
   "metadata": {},
   "outputs": [],
   "source": [
    "# This is the url you will scrape in this exercise \n",
    "url = 'https://www.imdb.com/chart/top'"
   ]
  },
  {
   "cell_type": "code",
   "execution_count": null,
   "metadata": {},
   "outputs": [],
   "source": [
    "# your code"
   ]
  },
  {
   "cell_type": "markdown",
   "metadata": {},
   "source": [
    "#### Movie name, year and a brief summary of the top 10 random movies (IMDB) as a pandas dataframe."
   ]
  },
  {
   "cell_type": "code",
   "execution_count": null,
   "metadata": {},
   "outputs": [],
   "source": [
    "#This is the url you will scrape in this exercise\n",
    "url = 'http://www.imdb.com/chart/top'"
   ]
  },
  {
   "cell_type": "code",
   "execution_count": null,
   "metadata": {},
   "outputs": [],
   "source": [
    "#your code"
   ]
  },
  {
   "cell_type": "markdown",
   "metadata": {},
   "source": [
    "#### Find the live weather report (temperature, wind speed, description and weather) of a given city."
   ]
  },
  {
   "cell_type": "code",
   "execution_count": null,
   "metadata": {},
   "outputs": [],
   "source": [
    "#https://openweathermap.org/current\n",
    "city = city=input('Enter the city:')\n",
    "url = 'http://api.openweathermap.org/data/2.5/weather?'+'q='+city+'&APPID=b35975e18dc93725acb092f7272cc6b8&units=metric'"
   ]
  },
  {
   "cell_type": "code",
   "execution_count": null,
   "metadata": {},
   "outputs": [],
   "source": [
    "# your code"
   ]
  },
  {
   "cell_type": "markdown",
   "metadata": {},
   "source": [
    "#### Book name,price and stock availability as a pandas dataframe."
   ]
  },
  {
   "cell_type": "code",
   "execution_count": null,
   "metadata": {},
   "outputs": [],
   "source": [
    "# This is the url you will scrape in this exercise. \n",
    "# It is a fictional bookstore created to be scraped. \n",
    "url = 'http://books.toscrape.com/'"
   ]
  },
  {
   "cell_type": "code",
   "execution_count": null,
   "metadata": {},
   "outputs": [],
   "source": [
    "#your code"
   ]
  }
 ],
 "metadata": {
  "kernelspec": {
   "display_name": "Python 3",
   "language": "python",
   "name": "python3"
  },
  "language_info": {
   "codemirror_mode": {
    "name": "ipython",
    "version": 3
   },
   "file_extension": ".py",
   "mimetype": "text/x-python",
   "name": "python",
   "nbconvert_exporter": "python",
   "pygments_lexer": "ipython3",
   "version": "3.8.2"
  }
 },
 "nbformat": 4,
 "nbformat_minor": 2
}
